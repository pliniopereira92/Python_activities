{
  "nbformat": 4,
  "nbformat_minor": 0,
  "metadata": {
    "colab": {
      "name": "Datascience",
      "provenance": [],
      "collapsed_sections": []
    },
    "kernelspec": {
      "display_name": "Python 3",
      "language": "python",
      "name": "python3"
    },
    "language_info": {
      "codemirror_mode": {
        "name": "ipython",
        "version": 3
      },
      "file_extension": ".py",
      "mimetype": "text/x-python",
      "name": "python",
      "nbconvert_exporter": "python",
      "pygments_lexer": "ipython3",
      "version": "3.7.0"
    }
  },
  "cells": [
    {
      "cell_type": "markdown",
      "metadata": {
        "id": "tOQjAY5ZvDCk"
      },
      "source": [
        "**Data Science**\n",
        "\n",
        "\n",
        "\n",
        "**Professor:** Geraldo Gomes"
      ]
    },
    {
      "cell_type": "markdown",
      "metadata": {
        "id": "_563XlTWHgXa"
      },
      "source": [
        "**O presente codigo tem como intuito análisar uma base de dados em formato csv usando estatistica descritiva, fazer sua limpeza e aplicar técnicas de machine learning.**\n",
        "\n",
        "**O jira_issue_o.csv é uma base de dados de um projeto, obtida através da plataforma Github, onde nela podemos observar diversas característcas como os variados tipos de tasks do projeto e suas respectivas dificuldades.**\n",
        "\n",
        "**Ainda com o jira_issue_0.csv foi possível fazer uma limpeza e posteriormente a aplicação de uma técnica de machine learning.**"
      ]
    },
    {
      "cell_type": "code",
      "metadata": {
        "colab": {
          "resources": {
            "http://localhost:8080/nbextensions/google.colab/files.js": {
              "data": "Ly8gQ29weXJpZ2h0IDIwMTcgR29vZ2xlIExMQwovLwovLyBMaWNlbnNlZCB1bmRlciB0aGUgQXBhY2hlIExpY2Vuc2UsIFZlcnNpb24gMi4wICh0aGUgIkxpY2Vuc2UiKTsKLy8geW91IG1heSBub3QgdXNlIHRoaXMgZmlsZSBleGNlcHQgaW4gY29tcGxpYW5jZSB3aXRoIHRoZSBMaWNlbnNlLgovLyBZb3UgbWF5IG9idGFpbiBhIGNvcHkgb2YgdGhlIExpY2Vuc2UgYXQKLy8KLy8gICAgICBodHRwOi8vd3d3LmFwYWNoZS5vcmcvbGljZW5zZXMvTElDRU5TRS0yLjAKLy8KLy8gVW5sZXNzIHJlcXVpcmVkIGJ5IGFwcGxpY2FibGUgbGF3IG9yIGFncmVlZCB0byBpbiB3cml0aW5nLCBzb2Z0d2FyZQovLyBkaXN0cmlidXRlZCB1bmRlciB0aGUgTGljZW5zZSBpcyBkaXN0cmlidXRlZCBvbiBhbiAiQVMgSVMiIEJBU0lTLAovLyBXSVRIT1VUIFdBUlJBTlRJRVMgT1IgQ09ORElUSU9OUyBPRiBBTlkgS0lORCwgZWl0aGVyIGV4cHJlc3Mgb3IgaW1wbGllZC4KLy8gU2VlIHRoZSBMaWNlbnNlIGZvciB0aGUgc3BlY2lmaWMgbGFuZ3VhZ2UgZ292ZXJuaW5nIHBlcm1pc3Npb25zIGFuZAovLyBsaW1pdGF0aW9ucyB1bmRlciB0aGUgTGljZW5zZS4KCi8qKgogKiBAZmlsZW92ZXJ2aWV3IEhlbHBlcnMgZm9yIGdvb2dsZS5jb2xhYiBQeXRob24gbW9kdWxlLgogKi8KKGZ1bmN0aW9uKHNjb3BlKSB7CmZ1bmN0aW9uIHNwYW4odGV4dCwgc3R5bGVBdHRyaWJ1dGVzID0ge30pIHsKICBjb25zdCBlbGVtZW50ID0gZG9jdW1lbnQuY3JlYXRlRWxlbWVudCgnc3BhbicpOwogIGVsZW1lbnQudGV4dENvbnRlbnQgPSB0ZXh0OwogIGZvciAoY29uc3Qga2V5IG9mIE9iamVjdC5rZXlzKHN0eWxlQXR0cmlidXRlcykpIHsKICAgIGVsZW1lbnQuc3R5bGVba2V5XSA9IHN0eWxlQXR0cmlidXRlc1trZXldOwogIH0KICByZXR1cm4gZWxlbWVudDsKfQoKLy8gTWF4IG51bWJlciBvZiBieXRlcyB3aGljaCB3aWxsIGJlIHVwbG9hZGVkIGF0IGEgdGltZS4KY29uc3QgTUFYX1BBWUxPQURfU0laRSA9IDEwMCAqIDEwMjQ7CgpmdW5jdGlvbiBfdXBsb2FkRmlsZXMoaW5wdXRJZCwgb3V0cHV0SWQpIHsKICBjb25zdCBzdGVwcyA9IHVwbG9hZEZpbGVzU3RlcChpbnB1dElkLCBvdXRwdXRJZCk7CiAgY29uc3Qgb3V0cHV0RWxlbWVudCA9IGRvY3VtZW50LmdldEVsZW1lbnRCeUlkKG91dHB1dElkKTsKICAvLyBDYWNoZSBzdGVwcyBvbiB0aGUgb3V0cHV0RWxlbWVudCB0byBtYWtlIGl0IGF2YWlsYWJsZSBmb3IgdGhlIG5leHQgY2FsbAogIC8vIHRvIHVwbG9hZEZpbGVzQ29udGludWUgZnJvbSBQeXRob24uCiAgb3V0cHV0RWxlbWVudC5zdGVwcyA9IHN0ZXBzOwoKICByZXR1cm4gX3VwbG9hZEZpbGVzQ29udGludWUob3V0cHV0SWQpOwp9CgovLyBUaGlzIGlzIHJvdWdobHkgYW4gYXN5bmMgZ2VuZXJhdG9yIChub3Qgc3VwcG9ydGVkIGluIHRoZSBicm93c2VyIHlldCksCi8vIHdoZXJlIHRoZXJlIGFyZSBtdWx0aXBsZSBhc3luY2hyb25vdXMgc3RlcHMgYW5kIHRoZSBQeXRob24gc2lkZSBpcyBnb2luZwovLyB0byBwb2xsIGZvciBjb21wbGV0aW9uIG9mIGVhY2ggc3RlcC4KLy8gVGhpcyB1c2VzIGEgUHJvbWlzZSB0byBibG9jayB0aGUgcHl0aG9uIHNpZGUgb24gY29tcGxldGlvbiBvZiBlYWNoIHN0ZXAsCi8vIHRoZW4gcGFzc2VzIHRoZSByZXN1bHQgb2YgdGhlIHByZXZpb3VzIHN0ZXAgYXMgdGhlIGlucHV0IHRvIHRoZSBuZXh0IHN0ZXAuCmZ1bmN0aW9uIF91cGxvYWRGaWxlc0NvbnRpbnVlKG91dHB1dElkKSB7CiAgY29uc3Qgb3V0cHV0RWxlbWVudCA9IGRvY3VtZW50LmdldEVsZW1lbnRCeUlkKG91dHB1dElkKTsKICBjb25zdCBzdGVwcyA9IG91dHB1dEVsZW1lbnQuc3RlcHM7CgogIGNvbnN0IG5leHQgPSBzdGVwcy5uZXh0KG91dHB1dEVsZW1lbnQubGFzdFByb21pc2VWYWx1ZSk7CiAgcmV0dXJuIFByb21pc2UucmVzb2x2ZShuZXh0LnZhbHVlLnByb21pc2UpLnRoZW4oKHZhbHVlKSA9PiB7CiAgICAvLyBDYWNoZSB0aGUgbGFzdCBwcm9taXNlIHZhbHVlIHRvIG1ha2UgaXQgYXZhaWxhYmxlIHRvIHRoZSBuZXh0CiAgICAvLyBzdGVwIG9mIHRoZSBnZW5lcmF0b3IuCiAgICBvdXRwdXRFbGVtZW50Lmxhc3RQcm9taXNlVmFsdWUgPSB2YWx1ZTsKICAgIHJldHVybiBuZXh0LnZhbHVlLnJlc3BvbnNlOwogIH0pOwp9CgovKioKICogR2VuZXJhdG9yIGZ1bmN0aW9uIHdoaWNoIGlzIGNhbGxlZCBiZXR3ZWVuIGVhY2ggYXN5bmMgc3RlcCBvZiB0aGUgdXBsb2FkCiAqIHByb2Nlc3MuCiAqIEBwYXJhbSB7c3RyaW5nfSBpbnB1dElkIEVsZW1lbnQgSUQgb2YgdGhlIGlucHV0IGZpbGUgcGlja2VyIGVsZW1lbnQuCiAqIEBwYXJhbSB7c3RyaW5nfSBvdXRwdXRJZCBFbGVtZW50IElEIG9mIHRoZSBvdXRwdXQgZGlzcGxheS4KICogQHJldHVybiB7IUl0ZXJhYmxlPCFPYmplY3Q+fSBJdGVyYWJsZSBvZiBuZXh0IHN0ZXBzLgogKi8KZnVuY3Rpb24qIHVwbG9hZEZpbGVzU3RlcChpbnB1dElkLCBvdXRwdXRJZCkgewogIGNvbnN0IGlucHV0RWxlbWVudCA9IGRvY3VtZW50LmdldEVsZW1lbnRCeUlkKGlucHV0SWQpOwogIGlucHV0RWxlbWVudC5kaXNhYmxlZCA9IGZhbHNlOwoKICBjb25zdCBvdXRwdXRFbGVtZW50ID0gZG9jdW1lbnQuZ2V0RWxlbWVudEJ5SWQob3V0cHV0SWQpOwogIG91dHB1dEVsZW1lbnQuaW5uZXJIVE1MID0gJyc7CgogIGNvbnN0IHBpY2tlZFByb21pc2UgPSBuZXcgUHJvbWlzZSgocmVzb2x2ZSkgPT4gewogICAgaW5wdXRFbGVtZW50LmFkZEV2ZW50TGlzdGVuZXIoJ2NoYW5nZScsIChlKSA9PiB7CiAgICAgIHJlc29sdmUoZS50YXJnZXQuZmlsZXMpOwogICAgfSk7CiAgfSk7CgogIGNvbnN0IGNhbmNlbCA9IGRvY3VtZW50LmNyZWF0ZUVsZW1lbnQoJ2J1dHRvbicpOwogIGlucHV0RWxlbWVudC5wYXJlbnRFbGVtZW50LmFwcGVuZENoaWxkKGNhbmNlbCk7CiAgY2FuY2VsLnRleHRDb250ZW50ID0gJ0NhbmNlbCB1cGxvYWQnOwogIGNvbnN0IGNhbmNlbFByb21pc2UgPSBuZXcgUHJvbWlzZSgocmVzb2x2ZSkgPT4gewogICAgY2FuY2VsLm9uY2xpY2sgPSAoKSA9PiB7CiAgICAgIHJlc29sdmUobnVsbCk7CiAgICB9OwogIH0pOwoKICAvLyBXYWl0IGZvciB0aGUgdXNlciB0byBwaWNrIHRoZSBmaWxlcy4KICBjb25zdCBmaWxlcyA9IHlpZWxkIHsKICAgIHByb21pc2U6IFByb21pc2UucmFjZShbcGlja2VkUHJvbWlzZSwgY2FuY2VsUHJvbWlzZV0pLAogICAgcmVzcG9uc2U6IHsKICAgICAgYWN0aW9uOiAnc3RhcnRpbmcnLAogICAgfQogIH07CgogIGNhbmNlbC5yZW1vdmUoKTsKCiAgLy8gRGlzYWJsZSB0aGUgaW5wdXQgZWxlbWVudCBzaW5jZSBmdXJ0aGVyIHBpY2tzIGFyZSBub3QgYWxsb3dlZC4KICBpbnB1dEVsZW1lbnQuZGlzYWJsZWQgPSB0cnVlOwoKICBpZiAoIWZpbGVzKSB7CiAgICByZXR1cm4gewogICAgICByZXNwb25zZTogewogICAgICAgIGFjdGlvbjogJ2NvbXBsZXRlJywKICAgICAgfQogICAgfTsKICB9CgogIGZvciAoY29uc3QgZmlsZSBvZiBmaWxlcykgewogICAgY29uc3QgbGkgPSBkb2N1bWVudC5jcmVhdGVFbGVtZW50KCdsaScpOwogICAgbGkuYXBwZW5kKHNwYW4oZmlsZS5uYW1lLCB7Zm9udFdlaWdodDogJ2JvbGQnfSkpOwogICAgbGkuYXBwZW5kKHNwYW4oCiAgICAgICAgYCgke2ZpbGUudHlwZSB8fCAnbi9hJ30pIC0gJHtmaWxlLnNpemV9IGJ5dGVzLCBgICsKICAgICAgICBgbGFzdCBtb2RpZmllZDogJHsKICAgICAgICAgICAgZmlsZS5sYXN0TW9kaWZpZWREYXRlID8gZmlsZS5sYXN0TW9kaWZpZWREYXRlLnRvTG9jYWxlRGF0ZVN0cmluZygpIDoKICAgICAgICAgICAgICAgICAgICAgICAgICAgICAgICAgICAgJ24vYSd9IC0gYCkpOwogICAgY29uc3QgcGVyY2VudCA9IHNwYW4oJzAlIGRvbmUnKTsKICAgIGxpLmFwcGVuZENoaWxkKHBlcmNlbnQpOwoKICAgIG91dHB1dEVsZW1lbnQuYXBwZW5kQ2hpbGQobGkpOwoKICAgIGNvbnN0IGZpbGVEYXRhUHJvbWlzZSA9IG5ldyBQcm9taXNlKChyZXNvbHZlKSA9PiB7CiAgICAgIGNvbnN0IHJlYWRlciA9IG5ldyBGaWxlUmVhZGVyKCk7CiAgICAgIHJlYWRlci5vbmxvYWQgPSAoZSkgPT4gewogICAgICAgIHJlc29sdmUoZS50YXJnZXQucmVzdWx0KTsKICAgICAgfTsKICAgICAgcmVhZGVyLnJlYWRBc0FycmF5QnVmZmVyKGZpbGUpOwogICAgfSk7CiAgICAvLyBXYWl0IGZvciB0aGUgZGF0YSB0byBiZSByZWFkeS4KICAgIGxldCBmaWxlRGF0YSA9IHlpZWxkIHsKICAgICAgcHJvbWlzZTogZmlsZURhdGFQcm9taXNlLAogICAgICByZXNwb25zZTogewogICAgICAgIGFjdGlvbjogJ2NvbnRpbnVlJywKICAgICAgfQogICAgfTsKCiAgICAvLyBVc2UgYSBjaHVua2VkIHNlbmRpbmcgdG8gYXZvaWQgbWVzc2FnZSBzaXplIGxpbWl0cy4gU2VlIGIvNjIxMTU2NjAuCiAgICBsZXQgcG9zaXRpb24gPSAwOwogICAgd2hpbGUgKHBvc2l0aW9uIDwgZmlsZURhdGEuYnl0ZUxlbmd0aCkgewogICAgICBjb25zdCBsZW5ndGggPSBNYXRoLm1pbihmaWxlRGF0YS5ieXRlTGVuZ3RoIC0gcG9zaXRpb24sIE1BWF9QQVlMT0FEX1NJWkUpOwogICAgICBjb25zdCBjaHVuayA9IG5ldyBVaW50OEFycmF5KGZpbGVEYXRhLCBwb3NpdGlvbiwgbGVuZ3RoKTsKICAgICAgcG9zaXRpb24gKz0gbGVuZ3RoOwoKICAgICAgY29uc3QgYmFzZTY0ID0gYnRvYShTdHJpbmcuZnJvbUNoYXJDb2RlLmFwcGx5KG51bGwsIGNodW5rKSk7CiAgICAgIHlpZWxkIHsKICAgICAgICByZXNwb25zZTogewogICAgICAgICAgYWN0aW9uOiAnYXBwZW5kJywKICAgICAgICAgIGZpbGU6IGZpbGUubmFtZSwKICAgICAgICAgIGRhdGE6IGJhc2U2NCwKICAgICAgICB9LAogICAgICB9OwogICAgICBwZXJjZW50LnRleHRDb250ZW50ID0KICAgICAgICAgIGAke01hdGgucm91bmQoKHBvc2l0aW9uIC8gZmlsZURhdGEuYnl0ZUxlbmd0aCkgKiAxMDApfSUgZG9uZWA7CiAgICB9CiAgfQoKICAvLyBBbGwgZG9uZS4KICB5aWVsZCB7CiAgICByZXNwb25zZTogewogICAgICBhY3Rpb246ICdjb21wbGV0ZScsCiAgICB9CiAgfTsKfQoKc2NvcGUuZ29vZ2xlID0gc2NvcGUuZ29vZ2xlIHx8IHt9OwpzY29wZS5nb29nbGUuY29sYWIgPSBzY29wZS5nb29nbGUuY29sYWIgfHwge307CnNjb3BlLmdvb2dsZS5jb2xhYi5fZmlsZXMgPSB7CiAgX3VwbG9hZEZpbGVzLAogIF91cGxvYWRGaWxlc0NvbnRpbnVlLAp9Owp9KShzZWxmKTsK",
              "headers": [
                [
                  "content-type",
                  "application/javascript"
                ]
              ],
              "ok": true,
              "status": 200,
              "status_text": ""
            }
          },
          "base_uri": "https://localhost:8080/",
          "height": 73
        },
        "id": "ze1kTFfCap6S",
        "outputId": "1e5d0e7c-2a57-48d1-bdf3-49fe5d8b8144"
      },
      "source": [
        "#Código base para upload de arquivos para o Google Colab\n",
        "from google.colab import files\n",
        "uploaded = files.upload()"
      ],
      "execution_count": null,
      "outputs": [
        {
          "output_type": "display_data",
          "data": {
            "text/html": [
              "\n",
              "     <input type=\"file\" id=\"files-52e72a10-4859-4fe0-b364-e2442f3e37f0\" name=\"files[]\" multiple disabled\n",
              "        style=\"border:none\" />\n",
              "     <output id=\"result-52e72a10-4859-4fe0-b364-e2442f3e37f0\">\n",
              "      Upload widget is only available when the cell has been executed in the\n",
              "      current browser session. Please rerun this cell to enable.\n",
              "      </output>\n",
              "      <script src=\"/nbextensions/google.colab/files.js\"></script> "
            ],
            "text/plain": [
              "<IPython.core.display.HTML object>"
            ]
          },
          "metadata": {
            "tags": []
          }
        },
        {
          "output_type": "stream",
          "text": [
            "Saving jira_issue_0.csv to jira_issue_0.csv\n"
          ],
          "name": "stdout"
        }
      ]
    },
    {
      "cell_type": "markdown",
      "metadata": {
        "id": "tALbXDlRHQPy"
      },
      "source": [
        "**Feito o upload do arquivo csv começaremos a trabalhar com ele e fazer as devidas análises**"
      ]
    },
    {
      "cell_type": "code",
      "metadata": {
        "id": "rotDVu1GuX3Y"
      },
      "source": [
        "import numpy as np\n",
        "import pandas as pd"
      ],
      "execution_count": null,
      "outputs": []
    },
    {
      "cell_type": "code",
      "metadata": {
        "id": "Gsfo58r2uX3d"
      },
      "source": [
        "#Sera usado o latin-1, pois o padrao UTF-8 nao foi suficiente, outro possivel encoding popular seria o Windows-1252\n",
        "sprints_data = pd.read_csv(\"jira_issue_0.csv\", encoding = \"latin-1\") "
      ],
      "execution_count": null,
      "outputs": []
    },
    {
      "cell_type": "code",
      "metadata": {
        "colab": {
          "base_uri": "https://localhost:8080/"
        },
        "id": "W9zZKd4zuX3g",
        "outputId": "65d66726-fe19-4373-9bec-0df041050b73"
      },
      "source": [
        "sprints_data.shape"
      ],
      "execution_count": null,
      "outputs": [
        {
          "output_type": "execute_result",
          "data": {
            "text/plain": [
              "(10852, 14)"
            ]
          },
          "metadata": {
            "tags": []
          },
          "execution_count": 4
        }
      ]
    },
    {
      "cell_type": "code",
      "metadata": {
        "colab": {
          "base_uri": "https://localhost:8080/",
          "height": 299
        },
        "id": "-2-I4eUFuX3k",
        "outputId": "6e034e2d-076b-40cf-c6de-26b10ad7a02d"
      },
      "source": [
        "sprints_data.head(5)"
      ],
      "execution_count": null,
      "outputs": [
        {
          "output_type": "execute_result",
          "data": {
            "text/html": [
              "<div>\n",
              "<style scoped>\n",
              "    .dataframe tbody tr th:only-of-type {\n",
              "        vertical-align: middle;\n",
              "    }\n",
              "\n",
              "    .dataframe tbody tr th {\n",
              "        vertical-align: top;\n",
              "    }\n",
              "\n",
              "    .dataframe thead th {\n",
              "        text-align: right;\n",
              "    }\n",
              "</style>\n",
              "<table border=\"1\" class=\"dataframe\">\n",
              "  <thead>\n",
              "    <tr style=\"text-align: right;\">\n",
              "      <th></th>\n",
              "      <th>boardid</th>\n",
              "      <th>sprintid</th>\n",
              "      <th>type</th>\n",
              "      <th>priority</th>\n",
              "      <th>no_comment</th>\n",
              "      <th>no_affectversion</th>\n",
              "      <th>no_fixversion</th>\n",
              "      <th>no_issuelink</th>\n",
              "      <th>no_blocking</th>\n",
              "      <th>no_blockedby</th>\n",
              "      <th>no_fixversion_change</th>\n",
              "      <th>no_priority_change</th>\n",
              "      <th>no_des_change</th>\n",
              "      <th>gunning_fog</th>\n",
              "    </tr>\n",
              "  </thead>\n",
              "  <tbody>\n",
              "    <tr>\n",
              "      <th>0</th>\n",
              "      <td>43</td>\n",
              "      <td>1</td>\n",
              "      <td>Sub-task</td>\n",
              "      <td>Minor</td>\n",
              "      <td>0</td>\n",
              "      <td>0</td>\n",
              "      <td>2</td>\n",
              "      <td>0</td>\n",
              "      <td>0</td>\n",
              "      <td>0</td>\n",
              "      <td>0</td>\n",
              "      <td>0</td>\n",
              "      <td>0</td>\n",
              "      <td>easy</td>\n",
              "    </tr>\n",
              "    <tr>\n",
              "      <th>1</th>\n",
              "      <td>43</td>\n",
              "      <td>1</td>\n",
              "      <td>Sub-task</td>\n",
              "      <td>Minor</td>\n",
              "      <td>0</td>\n",
              "      <td>0</td>\n",
              "      <td>2</td>\n",
              "      <td>0</td>\n",
              "      <td>0</td>\n",
              "      <td>0</td>\n",
              "      <td>0</td>\n",
              "      <td>0</td>\n",
              "      <td>0</td>\n",
              "      <td>easy</td>\n",
              "    </tr>\n",
              "    <tr>\n",
              "      <th>2</th>\n",
              "      <td>43</td>\n",
              "      <td>1</td>\n",
              "      <td>Sub-task</td>\n",
              "      <td>Minor</td>\n",
              "      <td>0</td>\n",
              "      <td>0</td>\n",
              "      <td>2</td>\n",
              "      <td>0</td>\n",
              "      <td>0</td>\n",
              "      <td>0</td>\n",
              "      <td>0</td>\n",
              "      <td>0</td>\n",
              "      <td>0</td>\n",
              "      <td>easy</td>\n",
              "    </tr>\n",
              "    <tr>\n",
              "      <th>3</th>\n",
              "      <td>43</td>\n",
              "      <td>1</td>\n",
              "      <td>Sub-task</td>\n",
              "      <td>Minor</td>\n",
              "      <td>0</td>\n",
              "      <td>0</td>\n",
              "      <td>0</td>\n",
              "      <td>0</td>\n",
              "      <td>0</td>\n",
              "      <td>0</td>\n",
              "      <td>0</td>\n",
              "      <td>0</td>\n",
              "      <td>0</td>\n",
              "      <td>easy</td>\n",
              "    </tr>\n",
              "    <tr>\n",
              "      <th>4</th>\n",
              "      <td>43</td>\n",
              "      <td>1</td>\n",
              "      <td>Sub-task</td>\n",
              "      <td>Minor</td>\n",
              "      <td>0</td>\n",
              "      <td>1</td>\n",
              "      <td>1</td>\n",
              "      <td>1</td>\n",
              "      <td>0</td>\n",
              "      <td>0</td>\n",
              "      <td>0</td>\n",
              "      <td>0</td>\n",
              "      <td>0</td>\n",
              "      <td>medium</td>\n",
              "    </tr>\n",
              "  </tbody>\n",
              "</table>\n",
              "</div>"
            ],
            "text/plain": [
              "   boardid  sprintid      type  ... no_priority_change  no_des_change  gunning_fog\n",
              "0       43         1  Sub-task  ...                  0              0         easy\n",
              "1       43         1  Sub-task  ...                  0              0         easy\n",
              "2       43         1  Sub-task  ...                  0              0         easy\n",
              "3       43         1  Sub-task  ...                  0              0         easy\n",
              "4       43         1  Sub-task  ...                  0              0       medium\n",
              "\n",
              "[5 rows x 14 columns]"
            ]
          },
          "metadata": {
            "tags": []
          },
          "execution_count": 5
        }
      ]
    },
    {
      "cell_type": "code",
      "metadata": {
        "colab": {
          "base_uri": "https://localhost:8080/"
        },
        "id": "etFT5wwiuX3m",
        "outputId": "1f41c44e-4e68-4e8f-c701-83b165620e9e"
      },
      "source": [
        "sprints_data.info()"
      ],
      "execution_count": null,
      "outputs": [
        {
          "output_type": "stream",
          "text": [
            "<class 'pandas.core.frame.DataFrame'>\n",
            "RangeIndex: 10852 entries, 0 to 10851\n",
            "Data columns (total 14 columns):\n",
            " #   Column                Non-Null Count  Dtype \n",
            "---  ------                --------------  ----- \n",
            " 0   boardid               10852 non-null  int64 \n",
            " 1   sprintid              10852 non-null  int64 \n",
            " 2   type                  10852 non-null  object\n",
            " 3   priority              9445 non-null   object\n",
            " 4   no_comment            10852 non-null  int64 \n",
            " 5   no_affectversion      10852 non-null  int64 \n",
            " 6   no_fixversion         10852 non-null  int64 \n",
            " 7   no_issuelink          10852 non-null  int64 \n",
            " 8   no_blocking           10852 non-null  int64 \n",
            " 9   no_blockedby          10852 non-null  int64 \n",
            " 10  no_fixversion_change  10852 non-null  int64 \n",
            " 11  no_priority_change    10852 non-null  int64 \n",
            " 12  no_des_change         10852 non-null  int64 \n",
            " 13  gunning_fog           10852 non-null  object\n",
            "dtypes: int64(11), object(3)\n",
            "memory usage: 1.2+ MB\n"
          ],
          "name": "stdout"
        }
      ]
    },
    {
      "cell_type": "markdown",
      "metadata": {
        "id": "H7y2wXrouX3r"
      },
      "source": [
        "<b>Primeiras observações</b>\n",
        "* Como primeira análise podemos perceber que, esse dataset possui 10.852 elementos, sendo eles divididos em 14 colunas distintas.\n",
        "* Algumas colunas possuem objetos nulos, porém a maior parte está completa.\n",
        "* As colunas possuem formatação de nome em [snake_case](https://en.wikipedia.org/wiki/Snake_case) como se opta em boas práticas de python.\n"
      ]
    },
    {
      "cell_type": "code",
      "metadata": {
        "colab": {
          "base_uri": "https://localhost:8080/"
        },
        "id": "JatwaazYuX3r",
        "outputId": "f94405f9-9935-42f9-8075-a8d72ad2a907"
      },
      "source": [
        "sprints_data.columns"
      ],
      "execution_count": null,
      "outputs": [
        {
          "output_type": "execute_result",
          "data": {
            "text/plain": [
              "Index(['boardid', 'sprintid', 'type', 'priority', 'no_comment',\n",
              "       'no_affectversion', 'no_fixversion', 'no_issuelink', 'no_blocking',\n",
              "       'no_blockedby', 'no_fixversion_change', 'no_priority_change',\n",
              "       'no_des_change', 'gunning_fog'],\n",
              "      dtype='object')"
            ]
          },
          "metadata": {
            "tags": []
          },
          "execution_count": 7
        }
      ]
    },
    {
      "cell_type": "code",
      "metadata": {
        "colab": {
          "base_uri": "https://localhost:8080/"
        },
        "id": "LJ2S-nZ6uX3u",
        "outputId": "9548f95a-fef3-4bc3-e0d3-20cf6dd74de5"
      },
      "source": [
        "#Renomeando colunas\n",
        "sprints_data.rename({\"boardid\":\"board_id\",\n",
        "               \"sprintid\":\"sprint_id\"}, axis=1, inplace=True)\n",
        "print(sprints_data.columns)"
      ],
      "execution_count": null,
      "outputs": [
        {
          "output_type": "stream",
          "text": [
            "Index(['board_id', 'sprint_id', 'type', 'priority', 'no_comment',\n",
            "       'no_affectversion', 'no_fixversion', 'no_issuelink', 'no_blocking',\n",
            "       'no_blockedby', 'no_fixversion_change', 'no_priority_change',\n",
            "       'no_des_change', 'gunning_fog'],\n",
            "      dtype='object')\n"
          ],
          "name": "stdout"
        }
      ]
    },
    {
      "cell_type": "markdown",
      "metadata": {
        "id": "8iQM3DYXJ2I2"
      },
      "source": [
        "**Após feita uma análise inicial da base de dados, foi verificado que não havia uma uniformidade nos nomes das colunas e por isso, cada coluna foi renomeada de modo que ficassem com a mesma formatação**"
      ]
    },
    {
      "cell_type": "code",
      "metadata": {
        "colab": {
          "base_uri": "https://localhost:8080/",
          "height": 393
        },
        "id": "TA0YxuY4uX3y",
        "outputId": "ea954ada-089c-47ab-c8bb-61e612f14edd"
      },
      "source": [
        "sprints_data.describe(include='all')"
      ],
      "execution_count": null,
      "outputs": [
        {
          "output_type": "execute_result",
          "data": {
            "text/html": [
              "<div>\n",
              "<style scoped>\n",
              "    .dataframe tbody tr th:only-of-type {\n",
              "        vertical-align: middle;\n",
              "    }\n",
              "\n",
              "    .dataframe tbody tr th {\n",
              "        vertical-align: top;\n",
              "    }\n",
              "\n",
              "    .dataframe thead th {\n",
              "        text-align: right;\n",
              "    }\n",
              "</style>\n",
              "<table border=\"1\" class=\"dataframe\">\n",
              "  <thead>\n",
              "    <tr style=\"text-align: right;\">\n",
              "      <th></th>\n",
              "      <th>board_id</th>\n",
              "      <th>sprint_id</th>\n",
              "      <th>type</th>\n",
              "      <th>priority</th>\n",
              "      <th>no_comment</th>\n",
              "      <th>no_affectversion</th>\n",
              "      <th>no_fixversion</th>\n",
              "      <th>no_issuelink</th>\n",
              "      <th>no_blocking</th>\n",
              "      <th>no_blockedby</th>\n",
              "      <th>no_fixversion_change</th>\n",
              "      <th>no_priority_change</th>\n",
              "      <th>no_des_change</th>\n",
              "      <th>gunning_fog</th>\n",
              "    </tr>\n",
              "  </thead>\n",
              "  <tbody>\n",
              "    <tr>\n",
              "      <th>count</th>\n",
              "      <td>10852.000000</td>\n",
              "      <td>10852.000000</td>\n",
              "      <td>10852</td>\n",
              "      <td>9445</td>\n",
              "      <td>10852.000000</td>\n",
              "      <td>10852.000000</td>\n",
              "      <td>10852.000000</td>\n",
              "      <td>10852.000000</td>\n",
              "      <td>10852.0</td>\n",
              "      <td>10852.0</td>\n",
              "      <td>10852.000000</td>\n",
              "      <td>10852.000000</td>\n",
              "      <td>10852.000000</td>\n",
              "      <td>10852</td>\n",
              "    </tr>\n",
              "    <tr>\n",
              "      <th>unique</th>\n",
              "      <td>NaN</td>\n",
              "      <td>NaN</td>\n",
              "      <td>19</td>\n",
              "      <td>5</td>\n",
              "      <td>NaN</td>\n",
              "      <td>NaN</td>\n",
              "      <td>NaN</td>\n",
              "      <td>NaN</td>\n",
              "      <td>NaN</td>\n",
              "      <td>NaN</td>\n",
              "      <td>NaN</td>\n",
              "      <td>NaN</td>\n",
              "      <td>NaN</td>\n",
              "      <td>3</td>\n",
              "    </tr>\n",
              "    <tr>\n",
              "      <th>top</th>\n",
              "      <td>NaN</td>\n",
              "      <td>NaN</td>\n",
              "      <td>Bug</td>\n",
              "      <td>Minor</td>\n",
              "      <td>NaN</td>\n",
              "      <td>NaN</td>\n",
              "      <td>NaN</td>\n",
              "      <td>NaN</td>\n",
              "      <td>NaN</td>\n",
              "      <td>NaN</td>\n",
              "      <td>NaN</td>\n",
              "      <td>NaN</td>\n",
              "      <td>NaN</td>\n",
              "      <td>easy</td>\n",
              "    </tr>\n",
              "    <tr>\n",
              "      <th>freq</th>\n",
              "      <td>NaN</td>\n",
              "      <td>NaN</td>\n",
              "      <td>5484</td>\n",
              "      <td>4920</td>\n",
              "      <td>NaN</td>\n",
              "      <td>NaN</td>\n",
              "      <td>NaN</td>\n",
              "      <td>NaN</td>\n",
              "      <td>NaN</td>\n",
              "      <td>NaN</td>\n",
              "      <td>NaN</td>\n",
              "      <td>NaN</td>\n",
              "      <td>NaN</td>\n",
              "      <td>4603</td>\n",
              "    </tr>\n",
              "    <tr>\n",
              "      <th>mean</th>\n",
              "      <td>723.000184</td>\n",
              "      <td>765.097862</td>\n",
              "      <td>NaN</td>\n",
              "      <td>NaN</td>\n",
              "      <td>1.307962</td>\n",
              "      <td>0.585238</td>\n",
              "      <td>0.912919</td>\n",
              "      <td>0.544600</td>\n",
              "      <td>0.0</td>\n",
              "      <td>0.0</td>\n",
              "      <td>0.273498</td>\n",
              "      <td>0.166329</td>\n",
              "      <td>0.728069</td>\n",
              "      <td>NaN</td>\n",
              "    </tr>\n",
              "    <tr>\n",
              "      <th>std</th>\n",
              "      <td>356.709806</td>\n",
              "      <td>705.962423</td>\n",
              "      <td>NaN</td>\n",
              "      <td>NaN</td>\n",
              "      <td>4.241802</td>\n",
              "      <td>0.943142</td>\n",
              "      <td>0.713801</td>\n",
              "      <td>1.253266</td>\n",
              "      <td>0.0</td>\n",
              "      <td>0.0</td>\n",
              "      <td>0.879960</td>\n",
              "      <td>0.511122</td>\n",
              "      <td>1.914025</td>\n",
              "      <td>NaN</td>\n",
              "    </tr>\n",
              "    <tr>\n",
              "      <th>min</th>\n",
              "      <td>43.000000</td>\n",
              "      <td>1.000000</td>\n",
              "      <td>NaN</td>\n",
              "      <td>NaN</td>\n",
              "      <td>0.000000</td>\n",
              "      <td>0.000000</td>\n",
              "      <td>0.000000</td>\n",
              "      <td>0.000000</td>\n",
              "      <td>0.0</td>\n",
              "      <td>0.0</td>\n",
              "      <td>0.000000</td>\n",
              "      <td>0.000000</td>\n",
              "      <td>0.000000</td>\n",
              "      <td>NaN</td>\n",
              "    </tr>\n",
              "    <tr>\n",
              "      <th>25%</th>\n",
              "      <td>441.000000</td>\n",
              "      <td>203.000000</td>\n",
              "      <td>NaN</td>\n",
              "      <td>NaN</td>\n",
              "      <td>0.000000</td>\n",
              "      <td>0.000000</td>\n",
              "      <td>0.000000</td>\n",
              "      <td>0.000000</td>\n",
              "      <td>0.0</td>\n",
              "      <td>0.0</td>\n",
              "      <td>0.000000</td>\n",
              "      <td>0.000000</td>\n",
              "      <td>0.000000</td>\n",
              "      <td>NaN</td>\n",
              "    </tr>\n",
              "    <tr>\n",
              "      <th>50%</th>\n",
              "      <td>732.000000</td>\n",
              "      <td>515.000000</td>\n",
              "      <td>NaN</td>\n",
              "      <td>NaN</td>\n",
              "      <td>0.000000</td>\n",
              "      <td>0.000000</td>\n",
              "      <td>1.000000</td>\n",
              "      <td>0.000000</td>\n",
              "      <td>0.0</td>\n",
              "      <td>0.0</td>\n",
              "      <td>0.000000</td>\n",
              "      <td>0.000000</td>\n",
              "      <td>0.000000</td>\n",
              "      <td>NaN</td>\n",
              "    </tr>\n",
              "    <tr>\n",
              "      <th>75%</th>\n",
              "      <td>1013.000000</td>\n",
              "      <td>1239.000000</td>\n",
              "      <td>NaN</td>\n",
              "      <td>NaN</td>\n",
              "      <td>1.000000</td>\n",
              "      <td>1.000000</td>\n",
              "      <td>1.000000</td>\n",
              "      <td>1.000000</td>\n",
              "      <td>0.0</td>\n",
              "      <td>0.0</td>\n",
              "      <td>0.000000</td>\n",
              "      <td>0.000000</td>\n",
              "      <td>1.000000</td>\n",
              "      <td>NaN</td>\n",
              "    </tr>\n",
              "    <tr>\n",
              "      <th>max</th>\n",
              "      <td>1206.000000</td>\n",
              "      <td>2440.000000</td>\n",
              "      <td>NaN</td>\n",
              "      <td>NaN</td>\n",
              "      <td>100.000000</td>\n",
              "      <td>34.000000</td>\n",
              "      <td>6.000000</td>\n",
              "      <td>18.000000</td>\n",
              "      <td>0.0</td>\n",
              "      <td>0.0</td>\n",
              "      <td>16.000000</td>\n",
              "      <td>6.000000</td>\n",
              "      <td>21.000000</td>\n",
              "      <td>NaN</td>\n",
              "    </tr>\n",
              "  </tbody>\n",
              "</table>\n",
              "</div>"
            ],
            "text/plain": [
              "            board_id     sprint_id  ... no_des_change gunning_fog\n",
              "count   10852.000000  10852.000000  ...  10852.000000       10852\n",
              "unique           NaN           NaN  ...           NaN           3\n",
              "top              NaN           NaN  ...           NaN        easy\n",
              "freq             NaN           NaN  ...           NaN        4603\n",
              "mean      723.000184    765.097862  ...      0.728069         NaN\n",
              "std       356.709806    705.962423  ...      1.914025         NaN\n",
              "min        43.000000      1.000000  ...      0.000000         NaN\n",
              "25%       441.000000    203.000000  ...      0.000000         NaN\n",
              "50%       732.000000    515.000000  ...      0.000000         NaN\n",
              "75%      1013.000000   1239.000000  ...      1.000000         NaN\n",
              "max      1206.000000   2440.000000  ...     21.000000         NaN\n",
              "\n",
              "[11 rows x 14 columns]"
            ]
          },
          "metadata": {
            "tags": []
          },
          "execution_count": 9
        }
      ]
    },
    {
      "cell_type": "markdown",
      "metadata": {
        "id": "F3OOlJY6uX4J"
      },
      "source": [
        "### **Colunas com valores não fundamentais para análise:**"
      ]
    },
    {
      "cell_type": "markdown",
      "metadata": {
        "id": "gmkqwTbzuX4K"
      },
      "source": [
        "Como pode ser percebido na descrição da DataFrame, as colunas 'no_comment', 'no_affectversion', 'no_fixversion', 'no_issuelink', 'no_blocking', 'no_blockedby', 'no_fixversion_change', 'no_priority_change' possuem informações não fundamentais para a análise, ou seja essas colunas não possuem valor a contribuir para análises, portanto podemos retirá-las do dataset"
      ]
    },
    {
      "cell_type": "code",
      "metadata": {
        "id": "hSWLp-SRuX4K"
      },
      "source": [
        "sprints_data = sprints_data.drop(\"no_comment\", axis=1)\n",
        "sprints_data = sprints_data.drop(\"no_affectversion\", axis=1)\n",
        "sprints_data = sprints_data.drop(\"no_fixversion\", axis=1)\n",
        "sprints_data = sprints_data.drop(\"no_issuelink\", axis=1)\n",
        "sprints_data = sprints_data.drop(\"no_blocking\", axis=1)\n",
        "sprints_data = sprints_data.drop(\"no_blockedby\", axis=1)\n",
        "sprints_data = sprints_data.drop(\"no_fixversion_change\", axis=1)\n",
        "sprints_data = sprints_data.drop(\"no_priority_change\", axis=1)\n",
        "sprints_data = sprints_data.drop(\"no_des_change\", axis=1)"
      ],
      "execution_count": null,
      "outputs": []
    },
    {
      "cell_type": "code",
      "metadata": {
        "colab": {
          "base_uri": "https://localhost:8080/",
          "height": 402
        },
        "id": "Jwf-btQxgkoi",
        "outputId": "ec1e1ad5-0063-4edc-bbd4-c6506cf67dff"
      },
      "source": [
        "sprints_data['priority'] = sprints_data['priority'].str.replace('null','np.nan')\n",
        "sprints_data.dropna()"
      ],
      "execution_count": null,
      "outputs": [
        {
          "output_type": "execute_result",
          "data": {
            "text/html": [
              "<div>\n",
              "<style scoped>\n",
              "    .dataframe tbody tr th:only-of-type {\n",
              "        vertical-align: middle;\n",
              "    }\n",
              "\n",
              "    .dataframe tbody tr th {\n",
              "        vertical-align: top;\n",
              "    }\n",
              "\n",
              "    .dataframe thead th {\n",
              "        text-align: right;\n",
              "    }\n",
              "</style>\n",
              "<table border=\"1\" class=\"dataframe\">\n",
              "  <thead>\n",
              "    <tr style=\"text-align: right;\">\n",
              "      <th></th>\n",
              "      <th>board_id</th>\n",
              "      <th>sprint_id</th>\n",
              "      <th>type</th>\n",
              "      <th>priority</th>\n",
              "      <th>gunning_fog</th>\n",
              "    </tr>\n",
              "  </thead>\n",
              "  <tbody>\n",
              "    <tr>\n",
              "      <th>0</th>\n",
              "      <td>43</td>\n",
              "      <td>1</td>\n",
              "      <td>Sub-task</td>\n",
              "      <td>Minor</td>\n",
              "      <td>easy</td>\n",
              "    </tr>\n",
              "    <tr>\n",
              "      <th>1</th>\n",
              "      <td>43</td>\n",
              "      <td>1</td>\n",
              "      <td>Sub-task</td>\n",
              "      <td>Minor</td>\n",
              "      <td>easy</td>\n",
              "    </tr>\n",
              "    <tr>\n",
              "      <th>2</th>\n",
              "      <td>43</td>\n",
              "      <td>1</td>\n",
              "      <td>Sub-task</td>\n",
              "      <td>Minor</td>\n",
              "      <td>easy</td>\n",
              "    </tr>\n",
              "    <tr>\n",
              "      <th>3</th>\n",
              "      <td>43</td>\n",
              "      <td>1</td>\n",
              "      <td>Sub-task</td>\n",
              "      <td>Minor</td>\n",
              "      <td>easy</td>\n",
              "    </tr>\n",
              "    <tr>\n",
              "      <th>4</th>\n",
              "      <td>43</td>\n",
              "      <td>1</td>\n",
              "      <td>Sub-task</td>\n",
              "      <td>Minor</td>\n",
              "      <td>medium</td>\n",
              "    </tr>\n",
              "    <tr>\n",
              "      <th>...</th>\n",
              "      <td>...</td>\n",
              "      <td>...</td>\n",
              "      <td>...</td>\n",
              "      <td>...</td>\n",
              "      <td>...</td>\n",
              "    </tr>\n",
              "    <tr>\n",
              "      <th>10843</th>\n",
              "      <td>1206</td>\n",
              "      <td>2019</td>\n",
              "      <td>Bug</td>\n",
              "      <td>Major</td>\n",
              "      <td>hard</td>\n",
              "    </tr>\n",
              "    <tr>\n",
              "      <th>10846</th>\n",
              "      <td>1206</td>\n",
              "      <td>2074</td>\n",
              "      <td>Bug</td>\n",
              "      <td>Major</td>\n",
              "      <td>hard</td>\n",
              "    </tr>\n",
              "    <tr>\n",
              "      <th>10848</th>\n",
              "      <td>1206</td>\n",
              "      <td>2125</td>\n",
              "      <td>Bug</td>\n",
              "      <td>Major</td>\n",
              "      <td>hard</td>\n",
              "    </tr>\n",
              "    <tr>\n",
              "      <th>10850</th>\n",
              "      <td>1206</td>\n",
              "      <td>2199</td>\n",
              "      <td>Bug</td>\n",
              "      <td>Major</td>\n",
              "      <td>hard</td>\n",
              "    </tr>\n",
              "    <tr>\n",
              "      <th>10851</th>\n",
              "      <td>1206</td>\n",
              "      <td>2200</td>\n",
              "      <td>Bug</td>\n",
              "      <td>Minor</td>\n",
              "      <td>hard</td>\n",
              "    </tr>\n",
              "  </tbody>\n",
              "</table>\n",
              "<p>9445 rows × 5 columns</p>\n",
              "</div>"
            ],
            "text/plain": [
              "       board_id  sprint_id      type priority gunning_fog\n",
              "0            43          1  Sub-task    Minor        easy\n",
              "1            43          1  Sub-task    Minor        easy\n",
              "2            43          1  Sub-task    Minor        easy\n",
              "3            43          1  Sub-task    Minor        easy\n",
              "4            43          1  Sub-task    Minor      medium\n",
              "...         ...        ...       ...      ...         ...\n",
              "10843      1206       2019       Bug    Major        hard\n",
              "10846      1206       2074       Bug    Major        hard\n",
              "10848      1206       2125       Bug    Major        hard\n",
              "10850      1206       2199       Bug    Major        hard\n",
              "10851      1206       2200       Bug    Minor        hard\n",
              "\n",
              "[9445 rows x 5 columns]"
            ]
          },
          "metadata": {
            "tags": []
          },
          "execution_count": 11
        }
      ]
    },
    {
      "cell_type": "markdown",
      "metadata": {
        "id": "aFM5qdzMKhK8"
      },
      "source": [
        "**Feita uma análise mais aprofundada da base de dados notou-se que algumas colunas apresentavam informações pouco ou não relevantes para nossa análise e com isso foi decidido o drop dessas colunas ou seja, a exclusão.**\n",
        "\n",
        "**Na coluna priority foi constatado a existencia de dados nulos, com isso todos os dados nulos foram devidamente removidos.**"
      ]
    },
    {
      "cell_type": "code",
      "metadata": {
        "colab": {
          "base_uri": "https://localhost:8080/",
          "height": 373
        },
        "id": "dfNE5RlDeG9d",
        "outputId": "74bd8110-6a7c-4d3b-979f-36071a3f64e8"
      },
      "source": [
        "sprints_data.describe(include='all')"
      ],
      "execution_count": null,
      "outputs": [
        {
          "output_type": "execute_result",
          "data": {
            "text/html": [
              "<div>\n",
              "<style scoped>\n",
              "    .dataframe tbody tr th:only-of-type {\n",
              "        vertical-align: middle;\n",
              "    }\n",
              "\n",
              "    .dataframe tbody tr th {\n",
              "        vertical-align: top;\n",
              "    }\n",
              "\n",
              "    .dataframe thead th {\n",
              "        text-align: right;\n",
              "    }\n",
              "</style>\n",
              "<table border=\"1\" class=\"dataframe\">\n",
              "  <thead>\n",
              "    <tr style=\"text-align: right;\">\n",
              "      <th></th>\n",
              "      <th>board_id</th>\n",
              "      <th>sprint_id</th>\n",
              "      <th>type</th>\n",
              "      <th>priority</th>\n",
              "      <th>gunning_fog</th>\n",
              "    </tr>\n",
              "  </thead>\n",
              "  <tbody>\n",
              "    <tr>\n",
              "      <th>count</th>\n",
              "      <td>10852.000000</td>\n",
              "      <td>10852.000000</td>\n",
              "      <td>10852</td>\n",
              "      <td>9445</td>\n",
              "      <td>10852</td>\n",
              "    </tr>\n",
              "    <tr>\n",
              "      <th>unique</th>\n",
              "      <td>NaN</td>\n",
              "      <td>NaN</td>\n",
              "      <td>19</td>\n",
              "      <td>5</td>\n",
              "      <td>3</td>\n",
              "    </tr>\n",
              "    <tr>\n",
              "      <th>top</th>\n",
              "      <td>NaN</td>\n",
              "      <td>NaN</td>\n",
              "      <td>Bug</td>\n",
              "      <td>Minor</td>\n",
              "      <td>easy</td>\n",
              "    </tr>\n",
              "    <tr>\n",
              "      <th>freq</th>\n",
              "      <td>NaN</td>\n",
              "      <td>NaN</td>\n",
              "      <td>5484</td>\n",
              "      <td>4920</td>\n",
              "      <td>4603</td>\n",
              "    </tr>\n",
              "    <tr>\n",
              "      <th>mean</th>\n",
              "      <td>723.000184</td>\n",
              "      <td>765.097862</td>\n",
              "      <td>NaN</td>\n",
              "      <td>NaN</td>\n",
              "      <td>NaN</td>\n",
              "    </tr>\n",
              "    <tr>\n",
              "      <th>std</th>\n",
              "      <td>356.709806</td>\n",
              "      <td>705.962423</td>\n",
              "      <td>NaN</td>\n",
              "      <td>NaN</td>\n",
              "      <td>NaN</td>\n",
              "    </tr>\n",
              "    <tr>\n",
              "      <th>min</th>\n",
              "      <td>43.000000</td>\n",
              "      <td>1.000000</td>\n",
              "      <td>NaN</td>\n",
              "      <td>NaN</td>\n",
              "      <td>NaN</td>\n",
              "    </tr>\n",
              "    <tr>\n",
              "      <th>25%</th>\n",
              "      <td>441.000000</td>\n",
              "      <td>203.000000</td>\n",
              "      <td>NaN</td>\n",
              "      <td>NaN</td>\n",
              "      <td>NaN</td>\n",
              "    </tr>\n",
              "    <tr>\n",
              "      <th>50%</th>\n",
              "      <td>732.000000</td>\n",
              "      <td>515.000000</td>\n",
              "      <td>NaN</td>\n",
              "      <td>NaN</td>\n",
              "      <td>NaN</td>\n",
              "    </tr>\n",
              "    <tr>\n",
              "      <th>75%</th>\n",
              "      <td>1013.000000</td>\n",
              "      <td>1239.000000</td>\n",
              "      <td>NaN</td>\n",
              "      <td>NaN</td>\n",
              "      <td>NaN</td>\n",
              "    </tr>\n",
              "    <tr>\n",
              "      <th>max</th>\n",
              "      <td>1206.000000</td>\n",
              "      <td>2440.000000</td>\n",
              "      <td>NaN</td>\n",
              "      <td>NaN</td>\n",
              "      <td>NaN</td>\n",
              "    </tr>\n",
              "  </tbody>\n",
              "</table>\n",
              "</div>"
            ],
            "text/plain": [
              "            board_id     sprint_id   type priority gunning_fog\n",
              "count   10852.000000  10852.000000  10852     9445       10852\n",
              "unique           NaN           NaN     19        5           3\n",
              "top              NaN           NaN    Bug    Minor        easy\n",
              "freq             NaN           NaN   5484     4920        4603\n",
              "mean      723.000184    765.097862    NaN      NaN         NaN\n",
              "std       356.709806    705.962423    NaN      NaN         NaN\n",
              "min        43.000000      1.000000    NaN      NaN         NaN\n",
              "25%       441.000000    203.000000    NaN      NaN         NaN\n",
              "50%       732.000000    515.000000    NaN      NaN         NaN\n",
              "75%      1013.000000   1239.000000    NaN      NaN         NaN\n",
              "max      1206.000000   2440.000000    NaN      NaN         NaN"
            ]
          },
          "metadata": {
            "tags": []
          },
          "execution_count": 12
        }
      ]
    },
    {
      "cell_type": "code",
      "metadata": {
        "colab": {
          "base_uri": "https://localhost:8080/",
          "height": 639
        },
        "id": "OQdQwcFxgVAr",
        "outputId": "dce9b2a4-4cd9-4245-a9ca-476a3a1b0cf5"
      },
      "source": [
        "#Cruzando as tabelas\n",
        "pd.crosstab(sprints_data['type'],sprints_data['gunning_fog'])"
      ],
      "execution_count": null,
      "outputs": [
        {
          "output_type": "execute_result",
          "data": {
            "text/html": [
              "<div>\n",
              "<style scoped>\n",
              "    .dataframe tbody tr th:only-of-type {\n",
              "        vertical-align: middle;\n",
              "    }\n",
              "\n",
              "    .dataframe tbody tr th {\n",
              "        vertical-align: top;\n",
              "    }\n",
              "\n",
              "    .dataframe thead th {\n",
              "        text-align: right;\n",
              "    }\n",
              "</style>\n",
              "<table border=\"1\" class=\"dataframe\">\n",
              "  <thead>\n",
              "    <tr style=\"text-align: right;\">\n",
              "      <th>gunning_fog</th>\n",
              "      <th>easy</th>\n",
              "      <th>hard</th>\n",
              "      <th>medium</th>\n",
              "    </tr>\n",
              "    <tr>\n",
              "      <th>type</th>\n",
              "      <th></th>\n",
              "      <th></th>\n",
              "      <th></th>\n",
              "    </tr>\n",
              "  </thead>\n",
              "  <tbody>\n",
              "    <tr>\n",
              "      <th>Bug</th>\n",
              "      <td>1525</td>\n",
              "      <td>2993</td>\n",
              "      <td>966</td>\n",
              "    </tr>\n",
              "    <tr>\n",
              "      <th>Concern</th>\n",
              "      <td>18</td>\n",
              "      <td>0</td>\n",
              "      <td>0</td>\n",
              "    </tr>\n",
              "    <tr>\n",
              "      <th>Crucible Subtask</th>\n",
              "      <td>0</td>\n",
              "      <td>0</td>\n",
              "      <td>54</td>\n",
              "    </tr>\n",
              "    <tr>\n",
              "      <th>Dev. Sub-task</th>\n",
              "      <td>158</td>\n",
              "      <td>0</td>\n",
              "      <td>0</td>\n",
              "    </tr>\n",
              "    <tr>\n",
              "      <th>Development Task</th>\n",
              "      <td>0</td>\n",
              "      <td>13</td>\n",
              "      <td>0</td>\n",
              "    </tr>\n",
              "    <tr>\n",
              "      <th>Documentation</th>\n",
              "      <td>2</td>\n",
              "      <td>0</td>\n",
              "      <td>0</td>\n",
              "    </tr>\n",
              "    <tr>\n",
              "      <th>Feedback</th>\n",
              "      <td>2</td>\n",
              "      <td>4</td>\n",
              "      <td>0</td>\n",
              "    </tr>\n",
              "    <tr>\n",
              "      <th>Fug</th>\n",
              "      <td>0</td>\n",
              "      <td>0</td>\n",
              "      <td>2</td>\n",
              "    </tr>\n",
              "    <tr>\n",
              "      <th>Improvement</th>\n",
              "      <td>180</td>\n",
              "      <td>224</td>\n",
              "      <td>108</td>\n",
              "    </tr>\n",
              "    <tr>\n",
              "      <th>New Feature</th>\n",
              "      <td>49</td>\n",
              "      <td>31</td>\n",
              "      <td>31</td>\n",
              "    </tr>\n",
              "    <tr>\n",
              "      <th>QA Task</th>\n",
              "      <td>18</td>\n",
              "      <td>0</td>\n",
              "      <td>0</td>\n",
              "    </tr>\n",
              "    <tr>\n",
              "      <th>Request</th>\n",
              "      <td>2</td>\n",
              "      <td>0</td>\n",
              "      <td>0</td>\n",
              "    </tr>\n",
              "    <tr>\n",
              "      <th>Story</th>\n",
              "      <td>215</td>\n",
              "      <td>69</td>\n",
              "      <td>87</td>\n",
              "    </tr>\n",
              "    <tr>\n",
              "      <th>Sub-task</th>\n",
              "      <td>1737</td>\n",
              "      <td>249</td>\n",
              "      <td>440</td>\n",
              "    </tr>\n",
              "    <tr>\n",
              "      <th>Suggestion</th>\n",
              "      <td>385</td>\n",
              "      <td>539</td>\n",
              "      <td>281</td>\n",
              "    </tr>\n",
              "    <tr>\n",
              "      <th>Support Request</th>\n",
              "      <td>0</td>\n",
              "      <td>4</td>\n",
              "      <td>0</td>\n",
              "    </tr>\n",
              "    <tr>\n",
              "      <th>Task</th>\n",
              "      <td>276</td>\n",
              "      <td>62</td>\n",
              "      <td>83</td>\n",
              "    </tr>\n",
              "    <tr>\n",
              "      <th>Technical task</th>\n",
              "      <td>36</td>\n",
              "      <td>0</td>\n",
              "      <td>0</td>\n",
              "    </tr>\n",
              "    <tr>\n",
              "      <th>Third-party issue</th>\n",
              "      <td>0</td>\n",
              "      <td>4</td>\n",
              "      <td>5</td>\n",
              "    </tr>\n",
              "  </tbody>\n",
              "</table>\n",
              "</div>"
            ],
            "text/plain": [
              "gunning_fog        easy  hard  medium\n",
              "type                                 \n",
              "Bug                1525  2993     966\n",
              "Concern              18     0       0\n",
              "Crucible Subtask      0     0      54\n",
              "Dev. Sub-task       158     0       0\n",
              "Development Task      0    13       0\n",
              "Documentation         2     0       0\n",
              "Feedback              2     4       0\n",
              "Fug                   0     0       2\n",
              "Improvement         180   224     108\n",
              "New Feature          49    31      31\n",
              "QA Task              18     0       0\n",
              "Request               2     0       0\n",
              "Story               215    69      87\n",
              "Sub-task           1737   249     440\n",
              "Suggestion          385   539     281\n",
              "Support Request       0     4       0\n",
              "Task                276    62      83\n",
              "Technical task       36     0       0\n",
              "Third-party issue     0     4       5"
            ]
          },
          "metadata": {
            "tags": []
          },
          "execution_count": 13
        }
      ]
    },
    {
      "cell_type": "markdown",
      "metadata": {
        "id": "trQyWkJwpfeG"
      },
      "source": [
        "**A tabela acima mostra um cruzamento entre as colunas de tipo de tasks e as colunas de dificuldade, mostrando assim as dificuldades de cada task que existe no dataset.**"
      ]
    },
    {
      "cell_type": "code",
      "metadata": {
        "colab": {
          "base_uri": "https://localhost:8080/",
          "height": 639
        },
        "id": "XabDuC2njXZV",
        "outputId": "c603269c-055b-403f-bc90-4ba33203cce9"
      },
      "source": [
        "#Cruzando as tabelas (%)\n",
        "pd.crosstab(sprints_data['type'],sprints_data['gunning_fog']).apply(lambda r: ((r/r.sum())*100).round(2) , axis=1)"
      ],
      "execution_count": null,
      "outputs": [
        {
          "output_type": "execute_result",
          "data": {
            "text/html": [
              "<div>\n",
              "<style scoped>\n",
              "    .dataframe tbody tr th:only-of-type {\n",
              "        vertical-align: middle;\n",
              "    }\n",
              "\n",
              "    .dataframe tbody tr th {\n",
              "        vertical-align: top;\n",
              "    }\n",
              "\n",
              "    .dataframe thead th {\n",
              "        text-align: right;\n",
              "    }\n",
              "</style>\n",
              "<table border=\"1\" class=\"dataframe\">\n",
              "  <thead>\n",
              "    <tr style=\"text-align: right;\">\n",
              "      <th>gunning_fog</th>\n",
              "      <th>easy</th>\n",
              "      <th>hard</th>\n",
              "      <th>medium</th>\n",
              "    </tr>\n",
              "    <tr>\n",
              "      <th>type</th>\n",
              "      <th></th>\n",
              "      <th></th>\n",
              "      <th></th>\n",
              "    </tr>\n",
              "  </thead>\n",
              "  <tbody>\n",
              "    <tr>\n",
              "      <th>Bug</th>\n",
              "      <td>27.81</td>\n",
              "      <td>54.58</td>\n",
              "      <td>17.61</td>\n",
              "    </tr>\n",
              "    <tr>\n",
              "      <th>Concern</th>\n",
              "      <td>100.00</td>\n",
              "      <td>0.00</td>\n",
              "      <td>0.00</td>\n",
              "    </tr>\n",
              "    <tr>\n",
              "      <th>Crucible Subtask</th>\n",
              "      <td>0.00</td>\n",
              "      <td>0.00</td>\n",
              "      <td>100.00</td>\n",
              "    </tr>\n",
              "    <tr>\n",
              "      <th>Dev. Sub-task</th>\n",
              "      <td>100.00</td>\n",
              "      <td>0.00</td>\n",
              "      <td>0.00</td>\n",
              "    </tr>\n",
              "    <tr>\n",
              "      <th>Development Task</th>\n",
              "      <td>0.00</td>\n",
              "      <td>100.00</td>\n",
              "      <td>0.00</td>\n",
              "    </tr>\n",
              "    <tr>\n",
              "      <th>Documentation</th>\n",
              "      <td>100.00</td>\n",
              "      <td>0.00</td>\n",
              "      <td>0.00</td>\n",
              "    </tr>\n",
              "    <tr>\n",
              "      <th>Feedback</th>\n",
              "      <td>33.33</td>\n",
              "      <td>66.67</td>\n",
              "      <td>0.00</td>\n",
              "    </tr>\n",
              "    <tr>\n",
              "      <th>Fug</th>\n",
              "      <td>0.00</td>\n",
              "      <td>0.00</td>\n",
              "      <td>100.00</td>\n",
              "    </tr>\n",
              "    <tr>\n",
              "      <th>Improvement</th>\n",
              "      <td>35.16</td>\n",
              "      <td>43.75</td>\n",
              "      <td>21.09</td>\n",
              "    </tr>\n",
              "    <tr>\n",
              "      <th>New Feature</th>\n",
              "      <td>44.14</td>\n",
              "      <td>27.93</td>\n",
              "      <td>27.93</td>\n",
              "    </tr>\n",
              "    <tr>\n",
              "      <th>QA Task</th>\n",
              "      <td>100.00</td>\n",
              "      <td>0.00</td>\n",
              "      <td>0.00</td>\n",
              "    </tr>\n",
              "    <tr>\n",
              "      <th>Request</th>\n",
              "      <td>100.00</td>\n",
              "      <td>0.00</td>\n",
              "      <td>0.00</td>\n",
              "    </tr>\n",
              "    <tr>\n",
              "      <th>Story</th>\n",
              "      <td>57.95</td>\n",
              "      <td>18.60</td>\n",
              "      <td>23.45</td>\n",
              "    </tr>\n",
              "    <tr>\n",
              "      <th>Sub-task</th>\n",
              "      <td>71.60</td>\n",
              "      <td>10.26</td>\n",
              "      <td>18.14</td>\n",
              "    </tr>\n",
              "    <tr>\n",
              "      <th>Suggestion</th>\n",
              "      <td>31.95</td>\n",
              "      <td>44.73</td>\n",
              "      <td>23.32</td>\n",
              "    </tr>\n",
              "    <tr>\n",
              "      <th>Support Request</th>\n",
              "      <td>0.00</td>\n",
              "      <td>100.00</td>\n",
              "      <td>0.00</td>\n",
              "    </tr>\n",
              "    <tr>\n",
              "      <th>Task</th>\n",
              "      <td>65.56</td>\n",
              "      <td>14.73</td>\n",
              "      <td>19.71</td>\n",
              "    </tr>\n",
              "    <tr>\n",
              "      <th>Technical task</th>\n",
              "      <td>100.00</td>\n",
              "      <td>0.00</td>\n",
              "      <td>0.00</td>\n",
              "    </tr>\n",
              "    <tr>\n",
              "      <th>Third-party issue</th>\n",
              "      <td>0.00</td>\n",
              "      <td>44.44</td>\n",
              "      <td>55.56</td>\n",
              "    </tr>\n",
              "  </tbody>\n",
              "</table>\n",
              "</div>"
            ],
            "text/plain": [
              "gunning_fog          easy    hard  medium\n",
              "type                                     \n",
              "Bug                 27.81   54.58   17.61\n",
              "Concern            100.00    0.00    0.00\n",
              "Crucible Subtask     0.00    0.00  100.00\n",
              "Dev. Sub-task      100.00    0.00    0.00\n",
              "Development Task     0.00  100.00    0.00\n",
              "Documentation      100.00    0.00    0.00\n",
              "Feedback            33.33   66.67    0.00\n",
              "Fug                  0.00    0.00  100.00\n",
              "Improvement         35.16   43.75   21.09\n",
              "New Feature         44.14   27.93   27.93\n",
              "QA Task            100.00    0.00    0.00\n",
              "Request            100.00    0.00    0.00\n",
              "Story               57.95   18.60   23.45\n",
              "Sub-task            71.60   10.26   18.14\n",
              "Suggestion          31.95   44.73   23.32\n",
              "Support Request      0.00  100.00    0.00\n",
              "Task                65.56   14.73   19.71\n",
              "Technical task     100.00    0.00    0.00\n",
              "Third-party issue    0.00   44.44   55.56"
            ]
          },
          "metadata": {
            "tags": []
          },
          "execution_count": 14
        }
      ]
    },
    {
      "cell_type": "markdown",
      "metadata": {
        "id": "wrcPZy37pyys"
      },
      "source": [
        "**A tabela acima mostra um cruzamento entre as colunas de tipo de tasks e as colunas de dificuldade, mostrando assim, em forma de porcentagem, as dificuldades de cada task que existe no dataset.**"
      ]
    },
    {
      "cell_type": "markdown",
      "metadata": {
        "id": "uMFlGepmLPpt"
      },
      "source": [
        "**Decidimos focar nossa análise nos tipos de taks que apareciam no projeto e fizemos um cruzamento das colunas type com a coluna gunning_fog que é relacionada a dificuldade das tasks.**"
      ]
    },
    {
      "cell_type": "markdown",
      "metadata": {
        "id": "q3qRfaLWihL2"
      },
      "source": [
        "Pela analise podemos observar:\n",
        "\n",
        "*   Tasks de tipo \"**Bug**\" são as que possuem maior incidência.\n",
        "*   Tasks com dificuldade \"**Hard**\" foram 54,58% das atividades do tipo \"**Bug**\".\n",
        "\n",
        "\n"
      ]
    },
    {
      "cell_type": "code",
      "metadata": {
        "colab": {
          "base_uri": "https://localhost:8080/",
          "height": 386
        },
        "id": "9w_GrZsBG9N5",
        "outputId": "9772d0bf-42c1-4bf3-f6c1-7bf90f164389"
      },
      "source": [
        "#Importando biblioteca matplotlib para visualização dos dados\n",
        "import matplotlib.pyplot as plt\n",
        "%matplotlib inline\n",
        "\n",
        "#Gerando histograma de todas as dimensões contínuas\n",
        "sprints_data.hist(figsize=(10,5))"
      ],
      "execution_count": null,
      "outputs": [
        {
          "output_type": "execute_result",
          "data": {
            "text/plain": [
              "array([[<matplotlib.axes._subplots.AxesSubplot object at 0x7f99aecadd30>,\n",
              "        <matplotlib.axes._subplots.AxesSubplot object at 0x7f99aec84fd0>]],\n",
              "      dtype=object)"
            ]
          },
          "metadata": {
            "tags": []
          },
          "execution_count": 15
        },
        {
          "output_type": "display_data",
          "data": {
            "image/png": "[encoded data removed]",
            "text/plain": [
              "<Figure size 720x360 with 2 Axes>"
            ]
          },
          "metadata": {
            "tags": []
          }
        }
      ]
    },
    {
      "cell_type": "markdown",
      "metadata": {
        "id": "TODcjdzZp7G0"
      },
      "source": [
        "**O gráfico acima apresenta uma visualização de todas as dimensões contínuas presentes no dataset, que são as colunas board_id e sprint_id.**"
      ]
    },
    {
      "cell_type": "code",
      "metadata": {
        "id": "vfduTKt6JIKV"
      },
      "source": [
        "#importando a biblioteca seaborn para a geração de gráficos mais sofisticados\n",
        "import seaborn as sns"
      ],
      "execution_count": null,
      "outputs": []
    },
    {
      "cell_type": "code",
      "metadata": {
        "colab": {
          "base_uri": "https://localhost:8080/",
          "height": 381
        },
        "id": "1UJsntWvKx3l",
        "outputId": "a2e86893-7c65-4f2a-c1ea-53a96319b8ef"
      },
      "source": [
        "plt.figure(figsize=(40,10)) # Modificando o tamanho do gráfico para melhor visualização.\n",
        "sns.countplot(x=\"type\", hue=\"gunning_fog\", data=sprints_data)\n",
        "plt.show()"
      ],
      "execution_count": null,
      "outputs": [
        {
          "output_type": "display_data",
          "data": {
            "image/png": "[encoded data removed]",
            "text/plain": [
              "<Figure size 2880x720 with 1 Axes>"
            ]
          },
          "metadata": {
            "tags": []
          }
        }
      ]
    },
    {
      "cell_type": "markdown",
      "metadata": {
        "id": "9untQZEXqKz9"
      },
      "source": [
        "**O grafico acima apresenta uma visualização da dificuldade de cada task que existe no dataset.**"
      ]
    },
    {
      "cell_type": "code",
      "metadata": {
        "colab": {
          "base_uri": "https://localhost:8080/",
          "height": 606
        },
        "id": "FqL1BuNnLlPO",
        "outputId": "6b981168-2327-4f1b-af97-da874f6f09c7"
      },
      "source": [
        "plt.figure(figsize=(20,10)) # Modificando o tamanho do gráfico para melhor visualização.\n",
        "sns.countplot(x=\"priority\", hue=\"type\", data=sprints_data)\n",
        "plt.show()"
      ],
      "execution_count": null,
      "outputs": [
        {
          "output_type": "display_data",
          "data": {
            "image/png": "[encoded data removed]",
            "text/plain": [
              "<Figure size 1440x720 with 1 Axes>"
            ]
          },
          "metadata": {
            "tags": []
          }
        }
      ]
    },
    {
      "cell_type": "markdown",
      "metadata": {
        "id": "Q_KoJtp_qbIJ"
      },
      "source": [
        "**O gráfico acima apresenta a prioridade de cada task  existente no dataset.**"
      ]
    },
    {
      "cell_type": "code",
      "metadata": {
        "id": "UQwQOhwYOJ3-"
      },
      "source": [
        "#Criando a Matriz de correlação\n",
        "corr = sprints_data.corr()"
      ],
      "execution_count": null,
      "outputs": []
    },
    {
      "cell_type": "code",
      "metadata": {
        "colab": {
          "base_uri": "https://localhost:8080/",
          "height": 287
        },
        "id": "ZQblxKk9N-YJ",
        "outputId": "9b0ed6f5-2a6e-4cc7-f709-c6f27014931e"
      },
      "source": [
        "sns.heatmap(corr, annot=True)"
      ],
      "execution_count": null,
      "outputs": [
        {
          "output_type": "execute_result",
          "data": {
            "text/plain": [
              "<matplotlib.axes._subplots.AxesSubplot at 0x7f999fcd42e8>"
            ]
          },
          "metadata": {
            "tags": []
          },
          "execution_count": 20
        },
        {
          "output_type": "display_data",
          "data": {
            "image/png": "[encoded data removed]",
            "text/plain": [
              "<Figure size 432x288 with 2 Axes>"
            ]
          },
          "metadata": {
            "tags": []
          }
        }
      ]
    },
    {
      "cell_type": "markdown",
      "metadata": {
        "id": "qelPyCMKqi9r"
      },
      "source": [
        "**Acima é exibida uma matriz de correlação entre as dimensões continuas do dataset, board_id e sprint_id.**"
      ]
    },
    {
      "cell_type": "markdown",
      "metadata": {
        "id": "b-RgKy8_OBAK"
      },
      "source": [
        "**Como forma de visualização foram gerados graficos que mostram a quantidade de cada uma das tasks e mostram tambem uma relação entre as tasks e a prioridade.**"
      ]
    },
    {
      "cell_type": "markdown",
      "metadata": {
        "id": "pLIEalDMFaYF"
      },
      "source": [
        "**Gerando arquivo para a nossa API**"
      ]
    },
    {
      "cell_type": "code",
      "metadata": {
        "id": "wnXTLvhWG4JD"
      },
      "source": [
        "# Criando arquivo com os dados tratados\n",
        "sprints_data.to_csv('jira_issue_0_cleaned.csv',index=False)\n",
        "\n",
        "# Criando um csv do formato que queremos para retornar na nossa API, simulando um banco de dados.\n",
        "sprints_type = pd.crosstab(sprints_data['type'],sprints_data['gunning_fog']).apply(lambda r: ((r/r.sum())*100).round(2) , axis=1)\n",
        "sprints_type.to_csv('jira_issue_0_response_api.csv',index=True, sep=\";\")"
      ],
      "execution_count": null,
      "outputs": []
    },
    {
      "cell_type": "code",
      "metadata": {
        "id": "fXefUayKOru5"
      },
      "source": [
        "# Utilizando Machine Learning para classificar as taks"
      ],
      "execution_count": null,
      "outputs": []
    },
    {
      "cell_type": "markdown",
      "metadata": {
        "id": "Ig_K9AmWOX2p"
      },
      "source": [
        "**Após feita a limpeza e análise da base de dados, partimos para a aplicação da técnica de machine learning.**"
      ]
    },
    {
      "cell_type": "code",
      "metadata": {
        "id": "z_zBSO7XOXSi"
      },
      "source": [
        "#Importando as bibliotecas de ML para classificação e predição.\n",
        "from sklearn.metrics import accuracy_score\n",
        "from sklearn.model_selection import train_test_split\n",
        "from sklearn.tree import DecisionTreeClassifier"
      ],
      "execution_count": null,
      "outputs": []
    },
    {
      "cell_type": "code",
      "metadata": {
        "id": "rRZ74KRV1XYi"
      },
      "source": [
        "#Convertendo as strings da coluna 'gunning_fog'.\n",
        "sprints_data['gunning_fog'] = sprints_data['gunning_fog'].apply(lambda x: x.replace('easy','1').replace('medium', '2').replace('hard', '3'))\n",
        "\n",
        "sprints_data['gunning_fog'] = pd.to_numeric(sprints_data['gunning_fog'])"
      ],
      "execution_count": null,
      "outputs": []
    },
    {
      "cell_type": "markdown",
      "metadata": {
        "id": "WQtf8Fj0qvLX"
      },
      "source": [
        "**Após a importação das bibliotecas necessarias para o Machine Learning foi necessario fazer uma conversão da coluna gunning_fog(dificuldade) para números inteiros.**"
      ]
    },
    {
      "cell_type": "code",
      "metadata": {
        "id": "ktiOA6hxioFx"
      },
      "source": [
        "#Buscando e convertendo todos os dados nulos da coluna 'priority' para string 'Nulo'.\n",
        "sprints_data['priority'] = sprints_data['priority'].fillna('Nulo')"
      ],
      "execution_count": null,
      "outputs": []
    },
    {
      "cell_type": "code",
      "metadata": {
        "id": "kVqEVtvT4bIV"
      },
      "source": [
        "#Convertendo as strings da coluna 'priority'.\n",
        "sprints_data['priority'] = sprints_data['priority'].apply(lambda x: x.replace('Nulo','0').replace('Minor','1').replace('Trivial', '2').replace('Major', '3').replace('Critical','4').replace('Blocker','5'))\n",
        "\n",
        "sprints_data['priority'] = pd.to_numeric(sprints_data['priority'])"
      ],
      "execution_count": null,
      "outputs": []
    },
    {
      "cell_type": "markdown",
      "metadata": {
        "id": "PQHv3NsjrCtj"
      },
      "source": [
        "**Após a importação das bibliotecas necessarias para o Machine Learning foi necessario fazer uma conversão da coluna priority para números inteiros.**"
      ]
    },
    {
      "cell_type": "code",
      "metadata": {
        "id": "vVV0xAY9gftq"
      },
      "source": [
        "#Convertendo as strings da coluna 'type'.\n",
        "sprints_data['type'] = sprints_data['type'].apply(lambda x: x.replace('Dev. 1','0').replace('Sub-task','1').replace('Dev. Sub-task', '2').replace('Story', '3').replace('Improvement','4').replace('Bug','5').replace('Task','6').replace('New Feature', '7').replace('Technical task', '8').replace('Concern','9').replace('Crucible Subtask','10').replace('QA Task','11').replace('Suggestion', '12').replace('Support Request', '13').replace('Documentation','14').replace('Feedback','15').replace('Third-party issue','16').replace('Development Task', '17').replace('Fug', '18').replace('Request','19').replace('QA 6','20').replace('Development 6','21'))\n",
        "\n",
        "sprints_data['type'] = pd.to_numeric(sprints_data['type'])"
      ],
      "execution_count": null,
      "outputs": []
    },
    {
      "cell_type": "markdown",
      "metadata": {
        "id": "pe0X8vEnrGE0"
      },
      "source": [
        "**Após a importação das bibliotecas necessarias para o Machine Learning foi necessario fazer uma conversão da coluna type para números inteiros.**"
      ]
    },
    {
      "cell_type": "markdown",
      "metadata": {
        "id": "EFHUUzgpOls7"
      },
      "source": [
        "**Para que a técnica fosse executada de forma correta foi preciso que todos os dados das colunas utilizadas fossem substituidos por números inteiros. Com isso determinamos que começariamos do 0 para o primeiro item substituindo até o ultimo item de cada coluna.**"
      ]
    },
    {
      "cell_type": "code",
      "metadata": {
        "id": "9_-BHTDtOeu2"
      },
      "source": [
        "#Preparar os dados Separando nossa variável alvo \n",
        "x = sprints_data[['priority', 'type', 'board_id', 'sprint_id']].copy()\n",
        "\n",
        "y= sprints_data[['gunning_fog']].copy()"
      ],
      "execution_count": null,
      "outputs": []
    },
    {
      "cell_type": "markdown",
      "metadata": {
        "id": "y7A09Bt2rQ63"
      },
      "source": [
        "**Como variavel alvo foi escolhida a coluna gunning_fog(dificuldade) para ser análisada e ser feita a predição usando todas as outras variaveis do dataset.**"
      ]
    },
    {
      "cell_type": "code",
      "metadata": {
        "id": "aMLjF2spOjg6"
      },
      "source": [
        "#Dividir um conjunto para teste e treinamento\n",
        "x_train, x_test, y_train,y_test = train_test_split(x,y, test_size=0.33, random_state=324)"
      ],
      "execution_count": null,
      "outputs": []
    },
    {
      "cell_type": "code",
      "metadata": {
        "colab": {
          "base_uri": "https://localhost:8080/"
        },
        "id": "28iW2NvhOlRX",
        "outputId": "22bb43c5-3db9-48bb-a94f-446abb74a445"
      },
      "source": [
        "#Criar modelo de ML\n",
        "task_quality_classifier = DecisionTreeClassifier(max_leaf_nodes=10, random_state=1)\n",
        "task_quality_classifier.fit(x_train,y_train)"
      ],
      "execution_count": null,
      "outputs": [
        {
          "output_type": "execute_result",
          "data": {
            "text/plain": [
              "DecisionTreeClassifier(ccp_alpha=0.0, class_weight=None, criterion='gini',\n",
              "                       max_depth=None, max_features=None, max_leaf_nodes=10,\n",
              "                       min_impurity_decrease=0.0, min_impurity_split=None,\n",
              "                       min_samples_leaf=1, min_samples_split=2,\n",
              "                       min_weight_fraction_leaf=0.0, presort='deprecated',\n",
              "                       random_state=1, splitter='best')"
            ]
          },
          "metadata": {
            "tags": []
          },
          "execution_count": 30
        }
      ]
    },
    {
      "cell_type": "code",
      "metadata": {
        "id": "lq_5rbLgOl0-"
      },
      "source": [
        "#Fazer Predição\n",
        "predictions = task_quality_classifier.predict(x_test)\n"
      ],
      "execution_count": null,
      "outputs": []
    },
    {
      "cell_type": "code",
      "metadata": {
        "colab": {
          "base_uri": "https://localhost:8080/"
        },
        "id": "qRx5Qc7LOo-u",
        "outputId": "9bdde6d9-0f4a-4b83-d0cc-0e1f602ea3c2"
      },
      "source": [
        "#Testar acurácia do modelo\n",
        "accuracy_score(y_true=y_test, y_pred=predictions)"
      ],
      "execution_count": null,
      "outputs": [
        {
          "output_type": "execute_result",
          "data": {
            "text/plain": [
              "0.5957565605806812"
            ]
          },
          "metadata": {
            "tags": []
          },
          "execution_count": 32
        }
      ]
    },
    {
      "cell_type": "markdown",
      "metadata": {
        "id": "ymZaW7wwrE0g"
      },
      "source": [
        "**Conforme visto acima, nossa acurácia de predição da variável gunning_fog com base nas dimensões selecionadas foi de aproximadamente 59,57%**."
      ]
    },
    {
      "cell_type": "markdown",
      "metadata": {
        "id": "_pWY8h3lonpg"
      },
      "source": [
        "**Segunda predição feita removendo as dimensões 'board_id' e 'sprint_id'.**"
      ]
    },
    {
      "cell_type": "code",
      "metadata": {
        "id": "kxv71ekqoOTK"
      },
      "source": [
        "#Preparar os dados Separando nossa variável alvo \n",
        "x = sprints_data[['priority', 'type']].copy()\n",
        "\n",
        "y= sprints_data[['gunning_fog']].copy()"
      ],
      "execution_count": null,
      "outputs": []
    },
    {
      "cell_type": "markdown",
      "metadata": {
        "id": "rBkcJuImrrWA"
      },
      "source": [
        "**Nesta nova predição, como variavel alvo foi escolhida a coluna gunning_fog(dificuldade) para ser análisada e ser feita a predição usando apenas duas variaveis do dataset, type e priority.**"
      ]
    },
    {
      "cell_type": "code",
      "metadata": {
        "id": "rqlhTlnHoQaD"
      },
      "source": [
        "#Dividir um conjunto para teste e treinamento\n",
        "x_train, x_test, y_train,y_test = train_test_split(x,y, test_size=0.33, random_state=324)"
      ],
      "execution_count": null,
      "outputs": []
    },
    {
      "cell_type": "code",
      "metadata": {
        "colab": {
          "base_uri": "https://localhost:8080/"
        },
        "id": "s3-ZVI1eoSum",
        "outputId": "3f0bec60-052a-4e3f-8419-1c92e13b25eb"
      },
      "source": [
        "#Criar modelo de ML\n",
        "task_quality_classifier = DecisionTreeClassifier(max_leaf_nodes=10, random_state=1)\n",
        "task_quality_classifier.fit(x_train,y_train)"
      ],
      "execution_count": null,
      "outputs": [
        {
          "output_type": "execute_result",
          "data": {
            "text/plain": [
              "DecisionTreeClassifier(ccp_alpha=0.0, class_weight=None, criterion='gini',\n",
              "                       max_depth=None, max_features=None, max_leaf_nodes=10,\n",
              "                       min_impurity_decrease=0.0, min_impurity_split=None,\n",
              "                       min_samples_leaf=1, min_samples_split=2,\n",
              "                       min_weight_fraction_leaf=0.0, presort='deprecated',\n",
              "                       random_state=1, splitter='best')"
            ]
          },
          "metadata": {
            "tags": []
          },
          "execution_count": 35
        }
      ]
    },
    {
      "cell_type": "code",
      "metadata": {
        "id": "x-9_jNdaoVW5"
      },
      "source": [
        "#Fazer Predição\n",
        "predictions = task_quality_classifier.predict(x_test)\n"
      ],
      "execution_count": null,
      "outputs": []
    },
    {
      "cell_type": "code",
      "metadata": {
        "colab": {
          "base_uri": "https://localhost:8080/"
        },
        "id": "kKFDV15IoXa0",
        "outputId": "3449d250-d337-4226-876c-05ea3f56f0e5"
      },
      "source": [
        "#Testar acurácia do modelo\n",
        "accuracy_score(y_true=y_test, y_pred=predictions)"
      ],
      "execution_count": null,
      "outputs": [
        {
          "output_type": "execute_result",
          "data": {
            "text/plain": [
              "0.5831937465103294"
            ]
          },
          "metadata": {
            "tags": []
          },
          "execution_count": 37
        }
      ]
    },
    {
      "cell_type": "markdown",
      "metadata": {
        "id": "bzfNoNJVrfUG"
      },
      "source": [
        "**Conforme visto acima, nossa acurácia de predição da variável alvo com base nas dimensões selecionadas foi de aproximadamente 58,31%**."
      ]
    },
    {
      "cell_type": "markdown",
      "metadata": {
        "id": "azBMAVSYFqHl"
      },
      "source": [
        "**Criando a nossa API**"
      ]
    },
    {
      "cell_type": "code",
      "metadata": {
        "colab": {
          "base_uri": "https://localhost:8080/"
        },
        "id": "UrZEYo-t_baa",
        "outputId": "58f9d007-4aa9-4aac-8f9d-9f5978f5d4d2"
      },
      "source": [
        "# Baixando o flask-ngrok\n",
        "!pip install flask-ngrok"
      ],
      "execution_count": null,
      "outputs": [
        {
          "output_type": "stream",
          "text": [
            "Requirement already satisfied: flask-ngrok in /usr/local/lib/python3.6/dist-packages (0.0.25)\n",
            "Requirement already satisfied: Flask>=0.8 in /usr/local/lib/python3.6/dist-packages (from flask-ngrok) (1.1.2)\n",
            "Requirement already satisfied: requests in /usr/local/lib/python3.6/dist-packages (from flask-ngrok) (2.23.0)\n",
            "Requirement already satisfied: Jinja2>=2.10.1 in /usr/local/lib/python3.6/dist-packages (from Flask>=0.8->flask-ngrok) (2.11.2)\n",
            "Requirement already satisfied: Werkzeug>=0.15 in /usr/local/lib/python3.6/dist-packages (from Flask>=0.8->flask-ngrok) (1.0.1)\n",
            "Requirement already satisfied: click>=5.1 in /usr/local/lib/python3.6/dist-packages (from Flask>=0.8->flask-ngrok) (7.1.2)\n",
            "Requirement already satisfied: itsdangerous>=0.24 in /usr/local/lib/python3.6/dist-packages (from Flask>=0.8->flask-ngrok) (1.1.0)\n",
            "Requirement already satisfied: urllib3!=1.25.0,!=1.25.1,<1.26,>=1.21.1 in /usr/local/lib/python3.6/dist-packages (from requests->flask-ngrok) (1.24.3)\n",
            "Requirement already satisfied: chardet<4,>=3.0.2 in /usr/local/lib/python3.6/dist-packages (from requests->flask-ngrok) (3.0.4)\n",
            "Requirement already satisfied: certifi>=2017.4.17 in /usr/local/lib/python3.6/dist-packages (from requests->flask-ngrok) (2020.12.5)\n",
            "Requirement already satisfied: idna<3,>=2.5 in /usr/local/lib/python3.6/dist-packages (from requests->flask-ngrok) (2.10)\n",
            "Requirement already satisfied: MarkupSafe>=0.23 in /usr/local/lib/python3.6/dist-packages (from Jinja2>=2.10.1->Flask>=0.8->flask-ngrok) (1.1.1)\n"
          ],
          "name": "stdout"
        }
      ]
    },
    {
      "cell_type": "code",
      "metadata": {
        "id": "58AjSLH5_kPr"
      },
      "source": [
        "# Importando as bibliotecas\n",
        "from flask import Flask, jsonify, request, render_template\n",
        "from flask_ngrok import run_with_ngrok\n",
        "\n",
        "# Criando o server\n",
        "app = Flask(__name__, static_url_path='')\n",
        "run_with_ngrok(app)"
      ],
      "execution_count": null,
      "outputs": []
    },
    {
      "cell_type": "code",
      "metadata": {
        "id": "I24hXZyg_9Bh"
      },
      "source": [
        "# Criando rotas\n",
        "\n",
        "@app.route(\"/types/<name>\", methods=['GET'])\n",
        "def getCategoryData(name):\n",
        "  # Importando o pandas\n",
        "  import pandas as pd\n",
        "\n",
        "  # Lendo o CSV \n",
        "  url = 'jira_issue_0_response_api.csv'\n",
        "  data = pd.read_csv(url)\n",
        "\n",
        "  # Transformando o CSV em Lista\n",
        "  list = data.values.tolist()\n",
        "\n",
        "  # Pegando os dados que precisamos\n",
        "  for item in list:\n",
        "    item_data = str(item[0]).split(\";\")\n",
        "    item_type = item_data[0]\n",
        "    if item_type.upper() == name.upper():\n",
        "      # Retornando os dados\n",
        "      return str(item_data)\n",
        "  \n",
        "  # Retornamos null caso não tenha um tipo\n",
        "  return str(\"null\")\n",
        "\n",
        "@app.route(\"/\")\n",
        "def index():\n",
        "  # Renderizando a página inicial\n",
        "  return render_template(\"index.html\")"
      ],
      "execution_count": null,
      "outputs": []
    },
    {
      "cell_type": "code",
      "metadata": {
        "colab": {
          "background_save": true,
          "base_uri": "https://localhost:8080/"
        },
        "id": "RkR8NFnHK6vn",
        "outputId": "51cccd88-e4b3-45fd-f666-72eaaff7d302"
      },
      "source": [
        "# Rodando o server\n",
        "if __name__ == '__main__':\n",
        "  app.run()"
      ],
      "execution_count": null,
      "outputs": [
        {
          "output_type": "stream",
          "text": [
            " * Serving Flask app \"__main__\" (lazy loading)\n",
            " * Environment: production\n",
            "\u001b[31m   WARNING: This is a development server. Do not use it in a production deployment.\u001b[0m\n",
            "\u001b[2m   Use a production WSGI server instead.\u001b[0m\n",
            " * Debug mode: off\n"
          ],
          "name": "stdout"
        },
        {
          "output_type": "stream",
          "text": [
            " * Running on http://127.0.0.1:5000/ (Press CTRL+C to quit)\n"
          ],
          "name": "stderr"
        },
        {
          "output_type": "stream",
          "text": [
            " * Running on http://46068c405299.ngrok.io\n",
            " * Traffic stats available on http://127.0.0.1:4040\n"
          ],
          "name": "stdout"
        },
        {
          "output_type": "stream",
          "text": [
            "127.0.0.1 - - [18/Jan/2021 21:53:56] \"\u001b[37mGET / HTTP/1.1\u001b[0m\" 200 -\n",
            "127.0.0.1 - - [18/Jan/2021 21:54:26] \"\u001b[37mGET / HTTP/1.1\u001b[0m\" 200 -\n",
            "127.0.0.1 - - [18/Jan/2021 21:54:29] \"\u001b[37mGET / HTTP/1.1\u001b[0m\" 200 -\n",
            "127.0.0.1 - - [18/Jan/2021 21:54:34] \"\u001b[37mGET /types/B HTTP/1.1\u001b[0m\" 200 -\n",
            "127.0.0.1 - - [18/Jan/2021 21:54:34] \"\u001b[33mGET /favicon.ico HTTP/1.1\u001b[0m\" 404 -\n",
            "127.0.0.1 - - [18/Jan/2021 21:54:34] \"\u001b[33mGET /favicon.ico HTTP/1.1\u001b[0m\" 404 -\n",
            "127.0.0.1 - - [18/Jan/2021 21:54:35] \"\u001b[37mGET /types/Buh HTTP/1.1\u001b[0m\" 200 -\n",
            "127.0.0.1 - - [18/Jan/2021 21:54:35] \"\u001b[37mGET /types/Bu HTTP/1.1\u001b[0m\" 200 -\n",
            "127.0.0.1 - - [18/Jan/2021 21:54:36] \"\u001b[37mGET /types/Bug HTTP/1.1\u001b[0m\" 200 -\n",
            "127.0.0.1 - - [18/Jan/2021 21:54:37] \"\u001b[37mGET /types/Bug HTTP/1.1\u001b[0m\" 200 -\n",
            "127.0.0.1 - - [18/Jan/2021 21:55:41] \"\u001b[37mGET /types/bu HTTP/1.1\u001b[0m\" 200 -\n",
            "127.0.0.1 - - [18/Jan/2021 21:55:41] \"\u001b[37mGET /types/bug HTTP/1.1\u001b[0m\" 200 -\n",
            "127.0.0.1 - - [18/Jan/2021 21:55:41] \"\u001b[37mGET /types/bu HTTP/1.1\u001b[0m\" 200 -\n",
            "127.0.0.1 - - [18/Jan/2021 21:55:43] \"\u001b[37mGET /types/bu HTTP/1.1\u001b[0m\" 200 -\n",
            "127.0.0.1 - - [18/Jan/2021 21:55:43] \"\u001b[37mGET /types/b HTTP/1.1\u001b[0m\" 200 -\n",
            "127.0.0.1 - - [18/Jan/2021 21:55:43] \"\u001b[33mGET /types/ HTTP/1.1\u001b[0m\" 404 -\n",
            "127.0.0.1 - - [18/Jan/2021 21:55:43] \"\u001b[33mGET /types/ HTTP/1.1\u001b[0m\" 404 -\n",
            "127.0.0.1 - - [18/Jan/2021 21:55:44] \"\u001b[37mGET /types/c HTTP/1.1\u001b[0m\" 200 -\n",
            "127.0.0.1 - - [18/Jan/2021 21:55:44] \"\u001b[37mGET /types/co HTTP/1.1\u001b[0m\" 200 -\n",
            "127.0.0.1 - - [18/Jan/2021 21:55:45] \"\u001b[37mGET /types/con HTTP/1.1\u001b[0m\" 200 -\n",
            "127.0.0.1 - - [18/Jan/2021 21:55:45] \"\u001b[37mGET /types/conv HTTP/1.1\u001b[0m\" 200 -\n",
            "127.0.0.1 - - [18/Jan/2021 21:55:45] \"\u001b[37mGET /types/conve HTTP/1.1\u001b[0m\" 200 -\n",
            "127.0.0.1 - - [18/Jan/2021 21:55:46] \"\u001b[37mGET /types/conv HTTP/1.1\u001b[0m\" 200 -\n",
            "127.0.0.1 - - [18/Jan/2021 21:55:46] \"\u001b[37mGET /types/con HTTP/1.1\u001b[0m\" 200 -\n",
            "127.0.0.1 - - [18/Jan/2021 21:55:46] \"\u001b[37mGET /types/conc HTTP/1.1\u001b[0m\" 200 -\n",
            "127.0.0.1 - - [18/Jan/2021 21:55:46] \"\u001b[37mGET /types/conce HTTP/1.1\u001b[0m\" 200 -\n",
            "127.0.0.1 - - [18/Jan/2021 21:55:47] \"\u001b[37mGET /types/concer HTTP/1.1\u001b[0m\" 200 -\n",
            "127.0.0.1 - - [18/Jan/2021 21:55:47] \"\u001b[37mGET /types/concern HTTP/1.1\u001b[0m\" 200 -\n",
            "127.0.0.1 - - [18/Jan/2021 21:55:57] \"\u001b[33mGET /types/ HTTP/1.1\u001b[0m\" 404 -\n",
            "127.0.0.1 - - [18/Jan/2021 21:55:57] \"\u001b[37mGET /types/c HTTP/1.1\u001b[0m\" 200 -\n",
            "127.0.0.1 - - [18/Jan/2021 21:55:57] \"\u001b[37mGET /types/cr HTTP/1.1\u001b[0m\" 200 -\n",
            "127.0.0.1 - - [18/Jan/2021 21:55:58] \"\u001b[37mGET /types/cru HTTP/1.1\u001b[0m\" 200 -\n",
            "127.0.0.1 - - [18/Jan/2021 21:55:58] \"\u001b[37mGET /types/cruc HTTP/1.1\u001b[0m\" 200 -\n",
            "127.0.0.1 - - [18/Jan/2021 21:55:58] \"\u001b[37mGET /types/cruci HTTP/1.1\u001b[0m\" 200 -\n",
            "127.0.0.1 - - [18/Jan/2021 21:55:58] \"\u001b[37mGET /types/crucib HTTP/1.1\u001b[0m\" 200 -\n",
            "127.0.0.1 - - [18/Jan/2021 21:55:59] \"\u001b[37mGET /types/crucibl HTTP/1.1\u001b[0m\" 200 -\n",
            "127.0.0.1 - - [18/Jan/2021 21:55:59] \"\u001b[37mGET /types/crucible HTTP/1.1\u001b[0m\" 200 -\n",
            "127.0.0.1 - - [18/Jan/2021 21:55:59] \"\u001b[37mGET /types/crucible HTTP/1.1\u001b[0m\" 200 -\n",
            "127.0.0.1 - - [18/Jan/2021 21:56:00] \"\u001b[37mGET /types/crucible%20s HTTP/1.1\u001b[0m\" 200 -\n",
            "127.0.0.1 - - [18/Jan/2021 21:56:00] \"\u001b[37mGET /types/crucible%20su HTTP/1.1\u001b[0m\" 200 -\n",
            "127.0.0.1 - - [18/Jan/2021 21:56:01] \"\u001b[37mGET /types/crucible%20sub HTTP/1.1\u001b[0m\" 200 -\n",
            "127.0.0.1 - - [18/Jan/2021 21:56:01] \"\u001b[37mGET /types/crucible%20sub- HTTP/1.1\u001b[0m\" 200 -\n",
            "127.0.0.1 - - [18/Jan/2021 21:56:01] \"\u001b[37mGET /types/crucible%20sub-ta HTTP/1.1\u001b[0m\" 200 -\n",
            "127.0.0.1 - - [18/Jan/2021 21:56:02] \"\u001b[37mGET /types/crucible%20sub-tas HTTP/1.1\u001b[0m\" 200 -\n",
            "127.0.0.1 - - [18/Jan/2021 21:56:02] \"\u001b[37mGET /types/crucible%20sub-tas HTTP/1.1\u001b[0m\" 200 -\n",
            "127.0.0.1 - - [18/Jan/2021 21:56:02] \"\u001b[37mGET /types/crucible%20sub-task HTTP/1.1\u001b[0m\" 200 -\n",
            "127.0.0.1 - - [18/Jan/2021 21:56:06] \"\u001b[37mGET /types/crucible%20sub-task HTTP/1.1\u001b[0m\" 200 -\n",
            "127.0.0.1 - - [18/Jan/2021 21:56:07] \"\u001b[37mGET /types/crucible%20sub-task HTTP/1.1\u001b[0m\" 200 -\n",
            "127.0.0.1 - - [18/Jan/2021 21:56:07] \"\u001b[37mGET /types/crucible%20sub-task HTTP/1.1\u001b[0m\" 200 -\n",
            "127.0.0.1 - - [18/Jan/2021 21:56:07] \"\u001b[37mGET /types/crucible%20subtask HTTP/1.1\u001b[0m\" 200 -\n",
            "127.0.0.1 - - [18/Jan/2021 21:56:07] \"\u001b[37mGET /types/crucible%20sub-task HTTP/1.1\u001b[0m\" 200 -\n",
            "127.0.0.1 - - [18/Jan/2021 21:56:08] \"\u001b[37mGET /types/crucible%20subtask HTTP/1.1\u001b[0m\" 200 -\n",
            "127.0.0.1 - - [18/Jan/2021 21:56:08] \"\u001b[37mGET /types/crucible%20subtask HTTP/1.1\u001b[0m\" 200 -\n",
            "127.0.0.1 - - [18/Jan/2021 21:56:08] \"\u001b[37mGET /types/crucible%20subtask HTTP/1.1\u001b[0m\" 200 -\n",
            "127.0.0.1 - - [18/Jan/2021 21:56:09] \"\u001b[37mGET /types/crucible%20subtask HTTP/1.1\u001b[0m\" 200 -\n",
            "127.0.0.1 - - [18/Jan/2021 21:56:09] \"\u001b[37mGET /types/crucible%20subtask HTTP/1.1\u001b[0m\" 200 -\n",
            "127.0.0.1 - - [18/Jan/2021 22:07:18] \"\u001b[37mGET /types/b HTTP/1.1\u001b[0m\" 200 -\n",
            "127.0.0.1 - - [18/Jan/2021 22:07:18] \"\u001b[37mGET /types/bu HTTP/1.1\u001b[0m\" 200 -\n",
            "127.0.0.1 - - [18/Jan/2021 22:07:19] \"\u001b[37mGET /types/bug HTTP/1.1\u001b[0m\" 200 -\n",
            "127.0.0.1 - - [18/Jan/2021 22:14:49] \"\u001b[33mGET /favicon.ico HTTP/1.1\u001b[0m\" 404 -\n",
            "127.0.0.1 - - [18/Jan/2021 22:51:08] \"\u001b[37mGET / HTTP/1.1\u001b[0m\" 200 -\n",
            "127.0.0.1 - - [18/Jan/2021 22:51:09] \"\u001b[33mGET /favicon.ico HTTP/1.1\u001b[0m\" 404 -\n",
            "127.0.0.1 - - [18/Jan/2021 22:51:19] \"\u001b[37mGET /types/bu HTTP/1.1\u001b[0m\" 200 -\n",
            "127.0.0.1 - - [18/Jan/2021 22:51:19] \"\u001b[37mGET /types/b HTTP/1.1\u001b[0m\" 200 -\n",
            "127.0.0.1 - - [18/Jan/2021 22:51:19] \"\u001b[33mGET /types/ HTTP/1.1\u001b[0m\" 404 -\n",
            "127.0.0.1 - - [18/Jan/2021 22:51:20] \"\u001b[37mGET /types/c HTTP/1.1\u001b[0m\" 200 -\n",
            "127.0.0.1 - - [18/Jan/2021 22:51:20] \"\u001b[37mGET /types/co HTTP/1.1\u001b[0m\" 200 -\n",
            "127.0.0.1 - - [18/Jan/2021 22:51:20] \"\u001b[37mGET /types/con HTTP/1.1\u001b[0m\" 200 -\n",
            "127.0.0.1 - - [18/Jan/2021 22:51:20] \"\u001b[37mGET /types/conc HTTP/1.1\u001b[0m\" 200 -\n",
            "127.0.0.1 - - [18/Jan/2021 22:51:21] \"\u001b[37mGET / HTTP/1.1\u001b[0m\" 200 -\n",
            "127.0.0.1 - - [18/Jan/2021 22:51:21] \"\u001b[37mGET /types/conce HTTP/1.1\u001b[0m\" 200 -\n",
            "127.0.0.1 - - [18/Jan/2021 22:51:21] \"\u001b[37mGET /types/concer HTTP/1.1\u001b[0m\" 200 -\n",
            "127.0.0.1 - - [18/Jan/2021 22:51:22] \"\u001b[37mGET /types/concern HTTP/1.1\u001b[0m\" 200 -\n",
            "127.0.0.1 - - [18/Jan/2021 22:51:27] \"\u001b[37mGET /types/b HTTP/1.1\u001b[0m\" 200 -\n",
            "127.0.0.1 - - [18/Jan/2021 22:51:28] \"\u001b[37mGET /types/bu HTTP/1.1\u001b[0m\" 200 -\n",
            "127.0.0.1 - - [18/Jan/2021 22:51:28] \"\u001b[37mGET /types/b HTTP/1.1\u001b[0m\" 200 -\n",
            "127.0.0.1 - - [18/Jan/2021 22:51:28] \"\u001b[37mGET /types/bug HTTP/1.1\u001b[0m\" 200 -\n",
            "127.0.0.1 - - [18/Jan/2021 22:51:28] \"\u001b[37mGET /types/bu HTTP/1.1\u001b[0m\" 200 -\n",
            "127.0.0.1 - - [18/Jan/2021 22:51:28] \"\u001b[37mGET /types/bug HTTP/1.1\u001b[0m\" 200 -\n",
            "127.0.0.1 - - [18/Jan/2021 22:51:28] \"\u001b[37mGET /types/bug HTTP/1.1\u001b[0m\" 200 -\n",
            "127.0.0.1 - - [18/Jan/2021 22:51:48] \"\u001b[37mGET /types/bug HTTP/1.1\u001b[0m\" 200 -\n",
            "127.0.0.1 - - [18/Jan/2021 22:52:03] \"\u001b[37mGET / HTTP/1.1\u001b[0m\" 200 -\n",
            "127.0.0.1 - - [18/Jan/2021 22:52:07] \"\u001b[33mGET /types/ HTTP/1.1\u001b[0m\" 404 -\n",
            "127.0.0.1 - - [18/Jan/2021 22:52:08] \"\u001b[37mGET /types/b HTTP/1.1\u001b[0m\" 200 -\n",
            "127.0.0.1 - - [18/Jan/2021 22:52:08] \"\u001b[37mGET /types/bu HTTP/1.1\u001b[0m\" 200 -\n",
            "127.0.0.1 - - [18/Jan/2021 22:53:35] \"\u001b[37mGET /types/b HTTP/1.1\u001b[0m\" 200 -\n",
            "127.0.0.1 - - [18/Jan/2021 22:53:35] \"\u001b[33mGET /types/ HTTP/1.1\u001b[0m\" 404 -\n",
            "127.0.0.1 - - [18/Jan/2021 22:53:35] \"\u001b[33mGET /types/ HTTP/1.1\u001b[0m\" 404 -\n",
            "127.0.0.1 - - [18/Jan/2021 22:53:36] \"\u001b[37mGET /types/bu HTTP/1.1\u001b[0m\" 200 -\n",
            "127.0.0.1 - - [18/Jan/2021 22:53:36] \"\u001b[37mGET /types/bug HTTP/1.1\u001b[0m\" 200 -\n",
            "127.0.0.1 - - [18/Jan/2021 22:53:36] \"\u001b[37mGET /types/bu HTTP/1.1\u001b[0m\" 200 -\n",
            "127.0.0.1 - - [18/Jan/2021 22:53:38] \"\u001b[37mGET /types/bu HTTP/1.1\u001b[0m\" 200 -\n",
            "127.0.0.1 - - [18/Jan/2021 22:53:38] \"\u001b[37mGET /types/bug HTTP/1.1\u001b[0m\" 200 -\n",
            "127.0.0.1 - - [18/Jan/2021 22:53:41] \"\u001b[37mGET /types/bug HTTP/1.1\u001b[0m\" 200 -\n"
          ],
          "name": "stderr"
        }
      ]
    },
    {
      "cell_type": "markdown",
      "metadata": {
        "id": "sT7jZ9T9cI2G"
      },
      "source": [
        "**Foram importadas bibliotecas necessarias para a criação da API onde visualizaremos de forma mais prática a dificuldade de cada task de forma mais exclusiva. Ao escolher a task \"bug\" irá mostrar em forma de porcentagem o quanto a task obteve cada dificuldade.**"
      ]
    }
  ]
}