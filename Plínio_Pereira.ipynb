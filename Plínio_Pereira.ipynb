{
  "nbformat": 4,
  "nbformat_minor": 0,
  "metadata": {
    "colab": {
      "name": "Plínio.Pereira.ipynb",
      "provenance": []
    },
    "kernelspec": {
      "name": "python3",
      "display_name": "Python 3"
    }
  },
  "cells": [
    {
      "cell_type": "code",
      "metadata": {
        "id": "_ulsu6Ud6IK4"
      },
      "source": [
        "'''Faça um algoritmo que leia um texto digitado pelo usuário e mostre a letra do meio. Obs: Considere que o texto digitado sempre terá um nr impar de letras'''\n",
        "\n",
        "#Entrada\n",
        "texto = input('Digite sua palavra: ')\n",
        "\n",
        "#Processamento\n",
        "textodividido = len(texto)//2\n",
        "\n",
        "#Saída\n",
        "print('A letra do meio da sua palavra é: ', texto[textodividido])"
      ],
      "execution_count": null,
      "outputs": []
    },
    {
      "cell_type": "code",
      "metadata": {
        "id": "MDxmSh-LG-DZ"
      },
      "source": [
        "'''Faça um algoritmo que leia um IPv4 e informe se ele é classe A, B, C ou Obs: leve em consideração que o ip digitado é correto'''\n",
        "\n",
        "#entrada\n",
        "ipv4 = int(input('digite o primeiro octeto de seu ipv4: '))\n",
        "\n",
        "#processamento e saida\n",
        "\n",
        "if (ipv4 < 127):\n",
        "  print('seu ipv4 é classe A')\n",
        "if (127 < ipv4 < 192):\n",
        "  print('seu ipv4 é calsse B')\n",
        "if (ipv4 > 192 and ipv4 < 224):\n",
        "  print('Seu ipv4 é Classe C')"
      ],
      "execution_count": null,
      "outputs": []
    },
    {
      "cell_type": "code",
      "metadata": {
        "id": "h0UZMXu5HB4a"
      },
      "source": [
        "'''Faça um algoritmo que leia três números diferentes e mostre-os em ordem decrescente'''\n",
        "\n",
        "#Entrada\n",
        "a = int(input('Digite um número: '))\n",
        "b = int(input('Digite um número: '))\n",
        "c = int(input('Digite um número: '))\n",
        "\n",
        "#Processamento\n",
        "if (c > b):\n",
        "  aux = c\n",
        "  c = b\n",
        "  b = aux\n",
        "  \n",
        "if (b > a):\n",
        "  aux = b\n",
        "  b = a\n",
        "  a = aux\n",
        "  \n",
        "if (c > b):\n",
        "  aux = c\n",
        "  c = b\n",
        "  b = aux\n",
        "  \n",
        "#Saída\n",
        "  \n",
        "print('A ordem descresente dos números é: ', a, \"-\", b,\"-\", c)"
      ],
      "execution_count": null,
      "outputs": []
    },
    {
      "cell_type": "code",
      "metadata": {
        "id": "_x1fC81JHPf6",
        "colab": {
          "base_uri": "https://localhost:8080/",
          "height": 51
        },
        "outputId": "c237d3bb-d30f-4180-d160-9f550f98a015"
      },
      "source": [
        "'''Faça um programa que calcule o imposto de renda, a partir de um salário a deduzir\" inserido pelo usuário, conforme tabela descrita no site ...\n",
        "https://www.mongeralaegon.com.br/blog/dinheiro/artigo/faixas-do-imposto-de-renda-qual-a-sua-aliquota-na-tabela-atualizada-do-ir\n",
        "'''\n",
        "#Entrada\n",
        "\n",
        "salario = float(input('Digite o valor a ser tributado: '))\n",
        "\n",
        "#Processamento\n",
        "\n",
        "if salario < 1903.98:\n",
        "  print('Voce está isento de tributação')\n",
        "if salario > 1903.99 and salario < 2826.65:\n",
        "  print('Seu imposto de renda é de 7,5% e o valor será: ', salario*0.075-142.80)\n",
        "if salario > 2826.66 and salario < 3751.05:\n",
        "  print('Seu imposto de renda é de 15% e o valor será: ', salario*0.15-354.80)\n",
        "if salario > 3751.06 and salario < 4664.68:\n",
        "  print('Seu imposto de renda é de 22,5% e o valor será: ', salario*0.225-636.13)\n",
        "if salario > 4664.68:\n",
        "  print('Seu imposto de renda é de 27,5% e o valor será: ', salario*0.275-869.36)\n",
        "\n"
      ],
      "execution_count": null,
      "outputs": [
        {
          "output_type": "stream",
          "text": [
            "Digite o valor a ser tributado: 3000\n",
            "Seu imposto de renda é de 15% e o valor será:  95.19999999999999\n"
          ],
          "name": "stdout"
        }
      ]
    }
  ]
}